{
 "metadata": {
  "kernelspec": {
   "name": "python3",
   "display_name": "Python 3",
   "language": "python"
  },
  "language_info": {
   "name": "python",
   "version": "3.10.12",
   "mimetype": "text/x-python",
   "codemirror_mode": {
    "name": "ipython",
    "version": 3
   },
   "pygments_lexer": "ipython3",
   "nbconvert_exporter": "python",
   "file_extension": ".py"
  }
 },
 "nbformat_minor": 5,
 "nbformat": 4,
 "cells": [
  {
   "cell_type": "markdown",
   "source": [
    "# Final Project\n",
    "## Paper: Rant or rave: variation over time in the language of online reviews\n",
    "#### Handed in by Gina-Maria Unger 01/843034"
   ],
   "metadata": {}
  },
  {
   "cell_type": "markdown",
   "source": [
    "### Install Requirements"
   ],
   "metadata": {
    "pycharm": {
     "name": "#%% md\n"
    }
   }
  },
  {
   "cell_type": "code",
   "source": [
    "# Please uncomment to install packages\n",
    "\n",
    "#!pip install pandas\n",
    "#!pip install numpy\n",
    "#!pip install json\n",
    "#!pip install matplotlib\n",
    "#!pip install math\n",
    "#!pip install transformers\n",
    "#!pip install torch\n",
    "#!pip install tabulate\n",
    "#!pip install scikit-learn\n",
    "#!pip install statsmodels\n",
    "#!pip install pymannkendall"
   ],
   "metadata": {
    "_kg_hide-output": true
   },
   "execution_count": 20,
   "outputs": []
  },
  {
   "cell_type": "markdown",
   "source": [
    "### Import requirements"
   ],
   "metadata": {}
  },
  {
   "cell_type": "code",
   "source": [
    "# Packages necessary to load/save the data\n",
    "import pandas as pd\n",
    "import json\n",
    "import pickle\n",
    "\n",
    "# Packages necessary to work of with data\n",
    "from vader import SentimentIntensityAnalyzer\n",
    "import numpy as np\n",
    "import re\n",
    "import math\n",
    "\n",
    "# Packages necessary to work with BERT\n",
    "from transformers import BertTokenizer, BertForSequenceClassification\n",
    "import torch\n",
    "from torch.utils.data import TensorDataset, DataLoader\n",
    "from torch.cuda.amp import autocast, GradScaler\n",
    "from sklearn.metrics import accuracy_score, classification_report\n",
    "\n",
    "# Packages necessary to create plots and tables (in latex-like style)\n",
    "import matplotlib.pyplot as plt\n",
    "from tabulate import tabulate\n",
    "\n",
    "# Packages necessary to do statistical tests\n",
    "import pymannkendall as mk\n",
    "from statsmodels.stats.multitest import fdrcorrection"
   ],
   "metadata": {
    "execution": {
     "iopub.status.busy": "2023-08-11T18:04:32.571267Z",
     "iopub.execute_input": "2023-08-11T18:04:32.573272Z",
     "iopub.status.idle": "2023-08-11T18:04:32.601498Z",
     "shell.execute_reply.started": "2023-08-11T18:04:32.573239Z",
     "shell.execute_reply": "2023-08-11T18:04:32.600476Z"
    },
    "trusted": true
   },
   "execution_count": 2,
   "outputs": []
  },
  {
   "cell_type": "markdown",
   "source": [
    "### IMDb Data of the Original Paper of Ziser et al (2023)"
   ],
   "metadata": {}
  },
  {
   "cell_type": "markdown",
   "source": [
    "#### Load the IMDb Data"
   ],
   "metadata": {
    "collapsed": false,
    "pycharm": {
     "name": "#%% md\n"
    }
   }
  },
  {
   "cell_type": "code",
   "source": [
    "# Creating an empty dataframe and a list of paths indicating where the different parts of the IMDb data is stored\n",
    "df_imdb = pd.DataFrame()\n",
    "paths_json_imdb = ['IMDb/part-01.json', 'IMDb/part-02.json', 'IMDb/part-03.json', 'IMDb/part-04.json', 'IMDb/part-05.json', 'IMDb/part-06.json']\n",
    "\n",
    "# For each path in the list indicating a json file that stores the data create a respective dataframe and concatenate it with the already loaded data so that in the end one dataframe stores all data\n",
    "for path_json_imdb in paths_json_imdb:\n",
    "    df_imdb_part = pd.read_json(path_json_imdb)\n",
    "    df_imdb = pd.concat([df_imdb, df_imdb_part], ignore_index=True, sort=False)"
   ],
   "metadata": {},
   "execution_count": 3,
   "outputs": []
  },
  {
   "cell_type": "markdown",
   "source": [
    "#### Data Reduction"
   ],
   "metadata": {
    "pycharm": {
     "name": "#%% md\n"
    }
   }
  },
  {
   "cell_type": "code",
   "source": [
    "# Viewing the dataframe structure\n",
    "df_imdb.head()"
   ],
   "metadata": {
    "pycharm": {
     "name": "#%%\n"
    },
    "collapsed": true,
    "jupyter": {
     "outputs_hidden": true
    }
   },
   "execution_count": 4,
   "outputs": [
    {
     "execution_count": 4,
     "output_type": "execute_result",
     "data": {
      "text/plain": "   review_id         reviewer                          movie  rating  \\\n0  rw5704482    raeldor-96879            After Life (2019– )     9.0   \n1  rw5704483          dosleeb  The Valhalla Murders (2019– )     6.0   \n2  rw5704484  brightconscious           Special OPS (2020– )     7.0   \n3  rw5704485       gasconyway              #BlackAF (2020– )     8.0   \n4  rw5704487     mmason-15867             The Droving (2020)     2.0   \n\n          review_summary review_date  spoiler_tag  \\\n0   Very Strong Season 2  3 May 2020            0   \n1  Icelandic detectives?  3 May 2020            0   \n2        Nothing special  3 May 2020            0   \n3               Good but  3 May 2020            0   \n4       An honest review  3 May 2020            0   \n\n                                       review_detail   helpful  \n0  I enjoyed the first season, but I must say I t...    [1, 1]  \n1  I know Iceland is a small country and police d...    [2, 2]  \n2  Except K K , no other actor looks comfortable ...    [0, 0]  \n3  I'm guessing that as a 62 year old white woman...    [5, 9]  \n4  Here's the truth. There's not much to this mov...  [26, 41]  ",
      "text/html": "<div>\n<style scoped>\n    .dataframe tbody tr th:only-of-type {\n        vertical-align: middle;\n    }\n\n    .dataframe tbody tr th {\n        vertical-align: top;\n    }\n\n    .dataframe thead th {\n        text-align: right;\n    }\n</style>\n<table border=\"1\" class=\"dataframe\">\n  <thead>\n    <tr style=\"text-align: right;\">\n      <th></th>\n      <th>review_id</th>\n      <th>reviewer</th>\n      <th>movie</th>\n      <th>rating</th>\n      <th>review_summary</th>\n      <th>review_date</th>\n      <th>spoiler_tag</th>\n      <th>review_detail</th>\n      <th>helpful</th>\n    </tr>\n  </thead>\n  <tbody>\n    <tr>\n      <th>0</th>\n      <td>rw5704482</td>\n      <td>raeldor-96879</td>\n      <td>After Life (2019– )</td>\n      <td>9.0</td>\n      <td>Very Strong Season 2</td>\n      <td>3 May 2020</td>\n      <td>0</td>\n      <td>I enjoyed the first season, but I must say I t...</td>\n      <td>[1, 1]</td>\n    </tr>\n    <tr>\n      <th>1</th>\n      <td>rw5704483</td>\n      <td>dosleeb</td>\n      <td>The Valhalla Murders (2019– )</td>\n      <td>6.0</td>\n      <td>Icelandic detectives?</td>\n      <td>3 May 2020</td>\n      <td>0</td>\n      <td>I know Iceland is a small country and police d...</td>\n      <td>[2, 2]</td>\n    </tr>\n    <tr>\n      <th>2</th>\n      <td>rw5704484</td>\n      <td>brightconscious</td>\n      <td>Special OPS (2020– )</td>\n      <td>7.0</td>\n      <td>Nothing special</td>\n      <td>3 May 2020</td>\n      <td>0</td>\n      <td>Except K K , no other actor looks comfortable ...</td>\n      <td>[0, 0]</td>\n    </tr>\n    <tr>\n      <th>3</th>\n      <td>rw5704485</td>\n      <td>gasconyway</td>\n      <td>#BlackAF (2020– )</td>\n      <td>8.0</td>\n      <td>Good but</td>\n      <td>3 May 2020</td>\n      <td>0</td>\n      <td>I'm guessing that as a 62 year old white woman...</td>\n      <td>[5, 9]</td>\n    </tr>\n    <tr>\n      <th>4</th>\n      <td>rw5704487</td>\n      <td>mmason-15867</td>\n      <td>The Droving (2020)</td>\n      <td>2.0</td>\n      <td>An honest review</td>\n      <td>3 May 2020</td>\n      <td>0</td>\n      <td>Here's the truth. There's not much to this mov...</td>\n      <td>[26, 41]</td>\n    </tr>\n  </tbody>\n</table>\n</div>"
     },
     "metadata": {}
    }
   ]
  },
  {
   "cell_type": "markdown",
   "source": [],
   "metadata": {}
  },
  {
   "cell_type": "code",
   "source": [
    "# Getting general information about the created dataframe like column types etc.\n",
    "df_imdb.info()"
   ],
   "metadata": {
    "pycharm": {
     "name": "#%%\n"
    },
    "collapsed": true,
    "jupyter": {
     "outputs_hidden": true
    }
   },
   "execution_count": 5,
   "outputs": [
    {
     "name": "stdout",
     "output_type": "stream",
     "text": "<class 'pandas.core.frame.DataFrame'>\n\nRangeIndex: 5571499 entries, 0 to 5571498\n\nData columns (total 9 columns):\n\n #   Column          Dtype  \n\n---  ------          -----  \n\n 0   review_id       object \n\n 1   reviewer        object \n\n 2   movie           object \n\n 3   rating          float64\n\n 4   review_summary  object \n\n 5   review_date     object \n\n 6   spoiler_tag     int64  \n\n 7   review_detail   object \n\n 8   helpful         object \n\ndtypes: float64(1), int64(1), object(7)\n\nmemory usage: 382.6+ MB\n"
    }
   ]
  },
  {
   "cell_type": "code",
   "source": [
    "# Reducing the dataframe to specific columns, converting the column storing the review publishing date to datetime format, and inserting a new 'year' column that gives the year the review was created\n",
    "df_imdb = df_imdb[['review_id', 'reviewer', 'rating', 'review_date', 'review_detail']]\n",
    "df_imdb['review_date'] = pd.to_datetime(df_imdb['review_date'])\n",
    "df_imdb.insert(4, 'year', df_imdb['review_date'].dt.year)\n",
    "\n",
    "# Renaming columns for clarity\n",
    "df_imdb.rename(columns={'review_date': 'date', 'review_detail': 'review'}, inplace=True)\n",
    "\n",
    "# Filtering the data to include only rows with rating values of 1.0 or 10.0, means to reviews with positive and negative sentiment\n",
    "df_imdb = df_imdb.loc[(df_imdb['rating'] == 1.0) | (df_imdb['rating'] == 10.0), ]"
   ],
   "metadata": {
    "collapsed": false,
    "pycharm": {
     "name": "#%%\n"
    },
    "jupyter": {
     "outputs_hidden": false
    }
   },
   "execution_count": 6,
   "outputs": []
  },
  {
   "cell_type": "code",
   "source": [
    "# Data seems to incorporate values for 2021 and before 2000 what is not in line with Ziser et al's (2023) IMDb data, hence these years will be excluded fo the matter of reproduction\n",
    "print(sorted(df_imdb['year'].unique()))\n",
    "df_imdb = df_imdb.loc[(df_imdb['year'] < 2021) & (df_imdb['year'] > 1999), ]\n",
    "print(sorted(df_imdb['year'].unique()))"
   ],
   "metadata": {
    "collapsed": false,
    "pycharm": {
     "name": "#%%\n"
    },
    "jupyter": {
     "outputs_hidden": false
    }
   },
   "execution_count": 7,
   "outputs": [
    {
     "name": "stdout",
     "output_type": "stream",
     "text": "[1998, 1999, 2000, 2001, 2002, 2003, 2004, 2005, 2006, 2007, 2008, 2009, 2010, 2011, 2012, 2013, 2014, 2015, 2016, 2017, 2018, 2019, 2020, 2021]\n\n[2000, 2001, 2002, 2003, 2004, 2005, 2006, 2007, 2008, 2009, 2010, 2011, 2012, 2013, 2014, 2015, 2016, 2017, 2018, 2019, 2020]\n"
    }
   ]
  },
  {
   "cell_type": "code",
   "source": [
    "# Viewing count frequency of reviews per year and sentiment before applying and sampling procedure\n",
    "print(df_imdb.groupby(['year', 'rating']).size())"
   ],
   "metadata": {
    "pycharm": {
     "name": "#%%\n"
    },
    "collapsed": true,
    "jupyter": {
     "outputs_hidden": true
    }
   },
   "execution_count": 8,
   "outputs": [
    {
     "name": "stdout",
     "output_type": "stream",
     "text": "year  rating\n\n2000  1.0         5252\n\n      10.0       20734\n\n2001  1.0         7071\n\n      10.0       26649\n\n2002  1.0         8769\n\n      10.0       31067\n\n2003  1.0         8785\n\n      10.0       29519\n\n2004  1.0         8635\n\n      10.0       28578\n\n2005  1.0        16906\n\n      10.0       50591\n\n2006  1.0        21533\n\n      10.0       64874\n\n2007  1.0        16336\n\n      10.0       41210\n\n2008  1.0        14901\n\n      10.0       31690\n\n2009  1.0        12652\n\n      10.0       26051\n\n2010  1.0        11954\n\n      10.0       24511\n\n2011  1.0        10757\n\n      10.0       23041\n\n2012  1.0        13157\n\n      10.0       28080\n\n2013  1.0        14164\n\n      10.0       29608\n\n2014  1.0        16059\n\n      10.0       34138\n\n2015  1.0        16606\n\n      10.0       34493\n\n2016  1.0        15053\n\n      10.0       33428\n\n2017  1.0        24727\n\n      10.0       45509\n\n2018  1.0        51259\n\n      10.0      109123\n\n2019  1.0        83048\n\n      10.0      177592\n\n2020  1.0       109456\n\n      10.0      251719\n\ndtype: int64\n"
    }
   ]
  },
  {
   "cell_type": "code",
   "source": [
    "# Limiting the numbers of reviews to 100000 per year and sentiment like Ziser et al (2023). Hereby using random sampling without replacement like the authors\n",
    "# if year sentiment group contains more than 100000 reviews. Attention by doing so this induces possibly  small differences in any results.\n",
    "\n",
    "# Group the dataframe 'df_imdb' by the 'year' and 'rating' columns.\n",
    "grouped = df_imdb.groupby(['year', 'rating'])\n",
    "\n",
    "# Initialize a list 'ls_imdb_sampled' to store sampled dataframe.\n",
    "ls_imdb_sampled = []\n",
    "\n",
    "# Iterate through each group created by the grouping operation.\n",
    "for group_name, group_data in grouped:\n",
    "    # Check if the group has more than or equal to 100,000 reviews.\n",
    "    if len(group_data) >= 100000:\n",
    "        # If the group has more than 100,000 reviews, sample 100,000 reviews randomly without replacement.\n",
    "        ls_imdb_sampled.append(group_data.sample(n=100000, random_state=42, replace=True))\n",
    "    else:\n",
    "        # If the group has fewer than 100,000 reviews, keep all the reviews in the group.\n",
    "        ls_imdb_sampled.append(group_data)\n",
    "\n",
    "# Concatenate the list of sampled DataFrames into a single dataframe.\n",
    "df_imdb_sampled = pd.concat(ls_imdb_sampled)\n",
    "\n",
    "# Reset the index for the sampled datframe.\n",
    "df_imdb_sampled.reset_index(drop=True, inplace=True)\n",
    "\n",
    "# Save the sampled IMDb dataframe as a pickle file.\n",
    "# df_imdb_sampled.to_pickle('imdb_sample.pkl')"
   ],
   "metadata": {
    "collapsed": false,
    "pycharm": {
     "name": "#%%\n"
    },
    "jupyter": {
     "outputs_hidden": false
    }
   },
   "execution_count": null,
   "outputs": []
  },
  {
   "cell_type": "code",
   "source": [
    "# Viewing the sampled dataframe structure\n",
    "df_imdb_sampled.head()"
   ],
   "metadata": {
    "collapsed": false,
    "pycharm": {
     "name": "#%%\n"
    },
    "jupyter": {
     "outputs_hidden": false
    }
   },
   "execution_count": 39,
   "outputs": [
    {
     "execution_count": 39,
     "output_type": "execute_result",
     "data": {
      "text/plain": "   review_id       reviewer  rating       date  year  \\\n0  rw0396079     themibjc-2     1.0 2000-08-14  2000   \n1  rw0396559  juan schwartz     1.0 2000-07-14  2000   \n2  rw0396625     indycolt98     1.0 2000-06-11  2000   \n3  rw0396726        atli_is     1.0 2000-07-07  2000   \n4  rw0396727       Angeneer     1.0 2000-10-27  2000   \n\n                                              review  \n0  From the creators of APEX & just as bad... Thi...  \n1  I don't care if Demi Moore was nude dancing be...  \n2  It was absolutely horrible and a waste of my t...  \n3  Boy, it's Friday.  I've been working hard all ...  \n4  Oh man I love this movie. It could make a bett...  ",
      "text/html": "<div>\n<style scoped>\n    .dataframe tbody tr th:only-of-type {\n        vertical-align: middle;\n    }\n\n    .dataframe tbody tr th {\n        vertical-align: top;\n    }\n\n    .dataframe thead th {\n        text-align: right;\n    }\n</style>\n<table border=\"1\" class=\"dataframe\">\n  <thead>\n    <tr style=\"text-align: right;\">\n      <th></th>\n      <th>review_id</th>\n      <th>reviewer</th>\n      <th>rating</th>\n      <th>date</th>\n      <th>year</th>\n      <th>review</th>\n    </tr>\n  </thead>\n  <tbody>\n    <tr>\n      <th>0</th>\n      <td>rw0396079</td>\n      <td>themibjc-2</td>\n      <td>1.0</td>\n      <td>2000-08-14</td>\n      <td>2000</td>\n      <td>From the creators of APEX &amp; just as bad... Thi...</td>\n    </tr>\n    <tr>\n      <th>1</th>\n      <td>rw0396559</td>\n      <td>juan schwartz</td>\n      <td>1.0</td>\n      <td>2000-07-14</td>\n      <td>2000</td>\n      <td>I don't care if Demi Moore was nude dancing be...</td>\n    </tr>\n    <tr>\n      <th>2</th>\n      <td>rw0396625</td>\n      <td>indycolt98</td>\n      <td>1.0</td>\n      <td>2000-06-11</td>\n      <td>2000</td>\n      <td>It was absolutely horrible and a waste of my t...</td>\n    </tr>\n    <tr>\n      <th>3</th>\n      <td>rw0396726</td>\n      <td>atli_is</td>\n      <td>1.0</td>\n      <td>2000-07-07</td>\n      <td>2000</td>\n      <td>Boy, it's Friday.  I've been working hard all ...</td>\n    </tr>\n    <tr>\n      <th>4</th>\n      <td>rw0396727</td>\n      <td>Angeneer</td>\n      <td>1.0</td>\n      <td>2000-10-27</td>\n      <td>2000</td>\n      <td>Oh man I love this movie. It could make a bett...</td>\n    </tr>\n  </tbody>\n</table>\n</div>"
     },
     "metadata": {}
    }
   ]
  },
  {
   "cell_type": "code",
   "source": [
    "# Viewing how the count frequency of reviews per year and sentiment has changed due the sampling procedure\n",
    "print(df_imdb_sampled.groupby(['year', 'rating']).size())"
   ],
   "metadata": {
    "pycharm": {
     "name": "#%%\n"
    },
    "collapsed": true,
    "jupyter": {
     "outputs_hidden": true
    }
   },
   "execution_count": 40,
   "outputs": [
    {
     "name": "stdout",
     "output_type": "stream",
     "text": "year  rating\n\n2000  1.0         5252\n\n      10.0       20734\n\n2001  1.0         7071\n\n      10.0       26649\n\n2002  1.0         8769\n\n      10.0       31067\n\n2003  1.0         8785\n\n      10.0       29519\n\n2004  1.0         8635\n\n      10.0       28578\n\n2005  1.0        16906\n\n      10.0       50591\n\n2006  1.0        21533\n\n      10.0       64874\n\n2007  1.0        16336\n\n      10.0       41210\n\n2008  1.0        14901\n\n      10.0       31690\n\n2009  1.0        12652\n\n      10.0       26051\n\n2010  1.0        11954\n\n      10.0       24511\n\n2011  1.0        10757\n\n      10.0       23041\n\n2012  1.0        13157\n\n      10.0       28080\n\n2013  1.0        14164\n\n      10.0       29608\n\n2014  1.0        16059\n\n      10.0       34138\n\n2015  1.0        16606\n\n      10.0       34493\n\n2016  1.0        15053\n\n      10.0       33428\n\n2017  1.0        24727\n\n      10.0       45509\n\n2018  1.0        51259\n\n      10.0      100000\n\n2019  1.0        83048\n\n      10.0      100000\n\n2020  1.0       100000\n\n      10.0      100000\n\ndtype: int64\n"
    }
   ]
  },
  {
   "cell_type": "markdown",
   "source": [
    "### Newer Version of the Yelp Data set including the years 2021 and 2022"
   ],
   "metadata": {
    "pycharm": {
     "name": "#%% md\n"
    }
   }
  },
  {
   "cell_type": "markdown",
   "source": [
    "#### Load the Yelp Data"
   ],
   "metadata": {
    "collapsed": false,
    "pycharm": {
     "name": "#%% md\n"
    }
   }
  },
  {
   "cell_type": "code",
   "source": [
    "# Initializing an empty list to store Yelp review data and defining the path to the Yelp JSON file\n",
    "data_yelp = []\n",
    "path_json_yelp = 'Yelp/yelp_academic_dataset_review.json'\n",
    "\n",
    "# Opening the Yelp JSON file, reading it line by line, and parsing each line as a JSON object and append it to the data_yelp list\n",
    "with open(path_json_yelp, 'r', encoding='utf-8') as file:\n",
    "    for line in file:\n",
    "        data_yelp.append(json.loads(line))"
   ],
   "metadata": {
    "collapsed": false,
    "pycharm": {
     "name": "#%%\n"
    },
    "jupyter": {
     "outputs_hidden": false
    }
   },
   "execution_count": 3,
   "outputs": []
  },
  {
   "cell_type": "markdown",
   "source": [],
   "metadata": {}
  },
  {
   "cell_type": "code",
   "source": [
    "# Viewing the list containing the Yelp review data as JSON objects\n",
    "data_yelp[:2]"
   ],
   "metadata": {
    "pycharm": {
     "name": "#%%\n"
    },
    "collapsed": true,
    "jupyter": {
     "outputs_hidden": true
    }
   },
   "execution_count": 4,
   "outputs": [
    {
     "data": {
      "text/plain": "[{'review_id': 'KU_O5udG6zpxOg-VcAEodg',\n  'user_id': 'mh_-eMZ6K5RLWhZyISBhwA',\n  'business_id': 'XQfwVwDr-v0ZS3_CbbE5Xw',\n  'stars': 3.0,\n  'useful': 0,\n  'funny': 0,\n  'cool': 0,\n  'text': \"If you decide to eat here, just be aware it is going to take about 2 hours from beginning to end. We have tried it multiple times, because I want to like it! I have been to it's other locations in NJ and never had a bad experience. \\n\\nThe food is good, but it takes a very long time to come out. The waitstaff is very young, but usually pleasant. We have just had too many experiences where we spent way too long waiting. We usually opt for another diner or restaurant on the weekends, in order to be done quicker.\",\n  'date': '2018-07-07 22:09:11'},\n {'review_id': 'BiTunyQ73aT9WBnpR9DZGw',\n  'user_id': 'OyoGAe7OKpv6SyGZT5g77Q',\n  'business_id': '7ATYjTIgM3jUlt4UM3IypQ',\n  'stars': 5.0,\n  'useful': 1,\n  'funny': 0,\n  'cool': 1,\n  'text': \"I've taken a lot of spin classes over the years, and nothing compares to the classes at Body Cycle. From the nice, clean space and amazing bikes, to the welcoming and motivating instructors, every class is a top notch work out.\\n\\nFor anyone who struggles to fit workouts in, the online scheduling system makes it easy to plan ahead (and there's no need to line up way in advanced like many gyms make you do).\\n\\nThere is no way I can write this review without giving Russell, the owner of Body Cycle, a shout out. Russell's passion for fitness and cycling is so evident, as is his desire for all of his clients to succeed. He is always dropping in to classes to check in/provide encouragement, and is open to ideas and recommendations from anyone. Russell always wears a smile on his face, even when he's kicking your butt in class!\",\n  'date': '2012-01-03 15:28:18'}]"
     },
     "execution_count": 4,
     "metadata": {},
     "output_type": "execute_result"
    }
   ]
  },
  {
   "cell_type": "code",
   "source": [
    "# Creating a dataframe storing the data of the Yelp reviews more accessible\n",
    "df_yelp = pd.DataFrame(data_yelp)"
   ],
   "metadata": {
    "collapsed": false,
    "pycharm": {
     "name": "#%%\n"
    },
    "jupyter": {
     "outputs_hidden": false
    }
   },
   "execution_count": 4,
   "outputs": []
  },
  {
   "cell_type": "markdown",
   "source": [
    "#### Data Reduction"
   ],
   "metadata": {
    "collapsed": false,
    "pycharm": {
     "name": "#%% md\n"
    }
   }
  },
  {
   "cell_type": "code",
   "source": [
    "# Viewing the dataframe structure\n",
    "df_yelp.head()"
   ],
   "metadata": {
    "pycharm": {
     "name": "#%%\n"
    },
    "collapsed": true,
    "jupyter": {
     "outputs_hidden": true
    }
   },
   "execution_count": 5,
   "outputs": [
    {
     "execution_count": 5,
     "output_type": "execute_result",
     "data": {
      "text/plain": "                review_id                 user_id             business_id  \\\n0  KU_O5udG6zpxOg-VcAEodg  mh_-eMZ6K5RLWhZyISBhwA  XQfwVwDr-v0ZS3_CbbE5Xw   \n1  BiTunyQ73aT9WBnpR9DZGw  OyoGAe7OKpv6SyGZT5g77Q  7ATYjTIgM3jUlt4UM3IypQ   \n2  saUsX_uimxRlCVr67Z4Jig  8g_iMtfSiwikVnbP2etR0A  YjUWPpI6HXG530lwP-fb2A   \n3  AqPFMleE6RsU23_auESxiA  _7bHUi9Uuf5__HHc_Q8guQ  kxX2SOes4o-D3ZQBkiMRfA   \n4  Sx8TMOWLNuJBWer-0pcmoA  bcjbaE6dDog4jkNY91ncLQ  e4Vwtrqf-wpJfwesgvdgxQ   \n\n   stars  useful  funny  cool  \\\n0    3.0       0      0     0   \n1    5.0       1      0     1   \n2    3.0       0      0     0   \n3    5.0       1      0     1   \n4    4.0       1      0     1   \n\n                                                text                 date  \n0  If you decide to eat here, just be aware it is...  2018-07-07 22:09:11  \n1  I've taken a lot of spin classes over the year...  2012-01-03 15:28:18  \n2  Family diner. Had the buffet. Eclectic assortm...  2014-02-05 20:30:30  \n3  Wow!  Yummy, different,  delicious.   Our favo...  2015-01-04 00:01:03  \n4  Cute interior and owner (?) gave us tour of up...  2017-01-14 20:54:15  ",
      "text/html": "<div>\n<style scoped>\n    .dataframe tbody tr th:only-of-type {\n        vertical-align: middle;\n    }\n\n    .dataframe tbody tr th {\n        vertical-align: top;\n    }\n\n    .dataframe thead th {\n        text-align: right;\n    }\n</style>\n<table border=\"1\" class=\"dataframe\">\n  <thead>\n    <tr style=\"text-align: right;\">\n      <th></th>\n      <th>review_id</th>\n      <th>user_id</th>\n      <th>business_id</th>\n      <th>stars</th>\n      <th>useful</th>\n      <th>funny</th>\n      <th>cool</th>\n      <th>text</th>\n      <th>date</th>\n    </tr>\n  </thead>\n  <tbody>\n    <tr>\n      <th>0</th>\n      <td>KU_O5udG6zpxOg-VcAEodg</td>\n      <td>mh_-eMZ6K5RLWhZyISBhwA</td>\n      <td>XQfwVwDr-v0ZS3_CbbE5Xw</td>\n      <td>3.0</td>\n      <td>0</td>\n      <td>0</td>\n      <td>0</td>\n      <td>If you decide to eat here, just be aware it is...</td>\n      <td>2018-07-07 22:09:11</td>\n    </tr>\n    <tr>\n      <th>1</th>\n      <td>BiTunyQ73aT9WBnpR9DZGw</td>\n      <td>OyoGAe7OKpv6SyGZT5g77Q</td>\n      <td>7ATYjTIgM3jUlt4UM3IypQ</td>\n      <td>5.0</td>\n      <td>1</td>\n      <td>0</td>\n      <td>1</td>\n      <td>I've taken a lot of spin classes over the year...</td>\n      <td>2012-01-03 15:28:18</td>\n    </tr>\n    <tr>\n      <th>2</th>\n      <td>saUsX_uimxRlCVr67Z4Jig</td>\n      <td>8g_iMtfSiwikVnbP2etR0A</td>\n      <td>YjUWPpI6HXG530lwP-fb2A</td>\n      <td>3.0</td>\n      <td>0</td>\n      <td>0</td>\n      <td>0</td>\n      <td>Family diner. Had the buffet. Eclectic assortm...</td>\n      <td>2014-02-05 20:30:30</td>\n    </tr>\n    <tr>\n      <th>3</th>\n      <td>AqPFMleE6RsU23_auESxiA</td>\n      <td>_7bHUi9Uuf5__HHc_Q8guQ</td>\n      <td>kxX2SOes4o-D3ZQBkiMRfA</td>\n      <td>5.0</td>\n      <td>1</td>\n      <td>0</td>\n      <td>1</td>\n      <td>Wow!  Yummy, different,  delicious.   Our favo...</td>\n      <td>2015-01-04 00:01:03</td>\n    </tr>\n    <tr>\n      <th>4</th>\n      <td>Sx8TMOWLNuJBWer-0pcmoA</td>\n      <td>bcjbaE6dDog4jkNY91ncLQ</td>\n      <td>e4Vwtrqf-wpJfwesgvdgxQ</td>\n      <td>4.0</td>\n      <td>1</td>\n      <td>0</td>\n      <td>1</td>\n      <td>Cute interior and owner (?) gave us tour of up...</td>\n      <td>2017-01-14 20:54:15</td>\n    </tr>\n  </tbody>\n</table>\n</div>"
     },
     "metadata": {}
    }
   ]
  },
  {
   "cell_type": "code",
   "source": [
    "# Getting general information about the created dataframe like column types etc.\n",
    "df_yelp.info()"
   ],
   "metadata": {
    "pycharm": {
     "name": "#%%\n"
    },
    "collapsed": true,
    "jupyter": {
     "outputs_hidden": true
    }
   },
   "execution_count": 6,
   "outputs": [
    {
     "name": "stdout",
     "output_type": "stream",
     "text": "<class 'pandas.core.frame.DataFrame'>\n\nRangeIndex: 6990280 entries, 0 to 6990279\n\nData columns (total 9 columns):\n\n #   Column       Dtype  \n\n---  ------       -----  \n\n 0   review_id    object \n\n 1   user_id      object \n\n 2   business_id  object \n\n 3   stars        float64\n\n 4   useful       int64  \n\n 5   funny        int64  \n\n 6   cool         int64  \n\n 7   text         object \n\n 8   date         object \n\ndtypes: float64(1), int64(3), object(5)\n\nmemory usage: 480.0+ MB\n"
    }
   ]
  },
  {
   "cell_type": "code",
   "source": [
    "# Reducing the dataframe to specific columns, converting the column storing the review publishing date to datetime format, and inserting a new 'year' column that gives the year the review was created\n",
    "df_yelp = df_yelp[['review_id', 'user_id', 'stars', 'text', 'date']]\n",
    "df_yelp['date'] = pd.to_datetime(df_yelp['date'])\n",
    "df_yelp['year'] = df_yelp['date'].dt.year\n",
    "\n",
    "# Renaming columns for clarity\n",
    "df_yelp.rename(columns={'user_id': 'reviewer', 'text': 'review'}, inplace=True)\n",
    "\n",
    "# Filtering the data to include only rows with star rating values of 1.0 or 5.0, means to reviews with positive and negative sentiment\n",
    "df_yelp = df_yelp.loc[(df_yelp['stars'] == 1.0) | (df_yelp['stars'] == 5.0), ]"
   ],
   "metadata": {
    "collapsed": false,
    "pycharm": {
     "name": "#%%\n"
    },
    "jupyter": {
     "outputs_hidden": false
    }
   },
   "execution_count": 7,
   "outputs": []
  },
  {
   "cell_type": "code",
   "source": [
    "# Viewing count frequency of reviews per year and sentiment before applying and sampling procedure\n",
    "print(df_yelp.groupby(['year', 'stars']).size())"
   ],
   "metadata": {
    "pycharm": {
     "name": "#%%\n"
    },
    "collapsed": true,
    "jupyter": {
     "outputs_hidden": true
    }
   },
   "execution_count": 8,
   "outputs": [
    {
     "name": "stdout",
     "output_type": "stream",
     "text": "year  stars\n\n2005  1.0          30\n\n      5.0         284\n\n2006  1.0         141\n\n      5.0        1476\n\n2007  1.0         678\n\n      5.0        5210\n\n2008  1.0        2383\n\n      5.0       14364\n\n2009  1.0        5355\n\n      5.0       22502\n\n2010  1.0       10614\n\n      5.0       42710\n\n2011  1.0       21036\n\n      5.0       74496\n\n2012  1.0       31063\n\n      5.0       97089\n\n2013  1.0       46039\n\n      5.0      138795\n\n2014  1.0       68635\n\n      5.0      212144\n\n2015  1.0       97968\n\n      5.0      302358\n\n2016  1.0      114040\n\n      5.0      356308\n\n2017  1.0      127385\n\n      5.0      399202\n\n2018  1.0      148425\n\n      5.0      456027\n\n2019  1.0      157311\n\n      5.0      463926\n\n2020  1.0      105401\n\n      5.0      302676\n\n2021  1.0      126450\n\n      5.0      325495\n\n2022  1.0        6607\n\n      5.0       16565\n\ndtype: int64\n"
    }
   ]
  },
  {
   "cell_type": "code",
   "source": [
    "# Limiting the numbers of reviews to 100,000 per year and sentiment.\n",
    "# Hereby using random sampling without replacement like the authors if the year sentiment group contains more than 100,000 reviews.\n",
    "\n",
    "# Grouping the dataframe by 'year' and 'stars' columns\n",
    "grouped = df_yelp.groupby(['year', 'stars'])\n",
    "\n",
    "# Initialize an empty list to store the sampled data\n",
    "ls_yelp_sampled = []\n",
    "\n",
    "# Loop through each group created by the 'groupby' operation\n",
    "for group_name, group_data in grouped:\n",
    "    # Check if the group has more than or equal to 100,000 reviews\n",
    "    if len(group_data) >= 100000:\n",
    "        # If there are more than 100,000 reviews in the group, sample 100,000 reviews from it\n",
    "        ls_yelp_sampled.append(group_data.sample(n=100000, random_state=42, replace=True))\n",
    "    else:\n",
    "        # If there are fewer than 100,000 reviews in the group, keep all of them\n",
    "        ls_yelp_sampled.append(group_data)\n",
    "\n",
    "# Concatenate the sampled groups back into a single dataframe\n",
    "df_yelp_sampled = pd.concat(ls_yelp_sampled)\n",
    "\n",
    "# Reset the index of the resulting dataframe\n",
    "df_yelp_sampled.reset_index(drop=True, inplace=True)\n",
    "\n",
    "# Save the sampled datframeto a pickle file\n",
    "# df_yelp_sampled.to_pickle('yelp_sample.pkl')"
   ],
   "metadata": {
    "collapsed": false,
    "pycharm": {
     "name": "#%%\n"
    },
    "jupyter": {
     "outputs_hidden": false
    }
   },
   "execution_count": 9,
   "outputs": []
  },
  {
   "cell_type": "code",
   "source": [
    "# Viewing the sampled dataframe structure\n",
    "df_yelp_sampled.head()"
   ],
   "metadata": {
    "pycharm": {
     "name": "#%%\n"
    },
    "collapsed": true,
    "jupyter": {
     "outputs_hidden": true
    }
   },
   "execution_count": 2,
   "outputs": [
    {
     "execution_count": 2,
     "output_type": "execute_result",
     "data": {
      "text/plain": "                review_id                reviewer  stars  \\\n0  jPwRemJ3wjd0wlGvkT5FuQ  n-lBS02-3yvlY5Q91mmwDA    1.0   \n1  Uc1C5BBmYOw6ZyaDm2MMbw  3MYdpmHeNwC6FquRWi3YOg    1.0   \n2  zAjW-oMbnu_oUzrE-ShkZw  -qoyKSF2G3PkR_7XNoJfpQ    1.0   \n3  iutNRAi9-2BVVIK7nXMmTw  n-lBS02-3yvlY5Q91mmwDA    1.0   \n4  -gNMjKldHiIK-G2704i9ew  PO-U11FmTDiqCEqtilFjVQ    1.0   \n\n                                              review                date  year  \n0  The blue version of Razoo, this is a bunch of ... 2005-07-10 23:02:24  2005  \n1  I once went to this Gavi and it was fine.  Sec... 2005-04-03 05:14:30  2005  \n2  Bad bar food.  Uninteresting menu.  Very slow ... 2005-05-27 19:37:03  2005  \n3  eww.. Starbucks.  If you have any taste, you w... 2005-07-10 05:27:29  2005  \n4  So, this guy (these guys?) did the last piece ... 2005-09-02 18:12:52  2005  ",
      "text/html": "<div>\n<style scoped>\n    .dataframe tbody tr th:only-of-type {\n        vertical-align: middle;\n    }\n\n    .dataframe tbody tr th {\n        vertical-align: top;\n    }\n\n    .dataframe thead th {\n        text-align: right;\n    }\n</style>\n<table border=\"1\" class=\"dataframe\">\n  <thead>\n    <tr style=\"text-align: right;\">\n      <th></th>\n      <th>review_id</th>\n      <th>reviewer</th>\n      <th>stars</th>\n      <th>review</th>\n      <th>date</th>\n      <th>year</th>\n    </tr>\n  </thead>\n  <tbody>\n    <tr>\n      <th>0</th>\n      <td>jPwRemJ3wjd0wlGvkT5FuQ</td>\n      <td>n-lBS02-3yvlY5Q91mmwDA</td>\n      <td>1.0</td>\n      <td>The blue version of Razoo, this is a bunch of ...</td>\n      <td>2005-07-10 23:02:24</td>\n      <td>2005</td>\n    </tr>\n    <tr>\n      <th>1</th>\n      <td>Uc1C5BBmYOw6ZyaDm2MMbw</td>\n      <td>3MYdpmHeNwC6FquRWi3YOg</td>\n      <td>1.0</td>\n      <td>I once went to this Gavi and it was fine.  Sec...</td>\n      <td>2005-04-03 05:14:30</td>\n      <td>2005</td>\n    </tr>\n    <tr>\n      <th>2</th>\n      <td>zAjW-oMbnu_oUzrE-ShkZw</td>\n      <td>-qoyKSF2G3PkR_7XNoJfpQ</td>\n      <td>1.0</td>\n      <td>Bad bar food.  Uninteresting menu.  Very slow ...</td>\n      <td>2005-05-27 19:37:03</td>\n      <td>2005</td>\n    </tr>\n    <tr>\n      <th>3</th>\n      <td>iutNRAi9-2BVVIK7nXMmTw</td>\n      <td>n-lBS02-3yvlY5Q91mmwDA</td>\n      <td>1.0</td>\n      <td>eww.. Starbucks.  If you have any taste, you w...</td>\n      <td>2005-07-10 05:27:29</td>\n      <td>2005</td>\n    </tr>\n    <tr>\n      <th>4</th>\n      <td>-gNMjKldHiIK-G2704i9ew</td>\n      <td>PO-U11FmTDiqCEqtilFjVQ</td>\n      <td>1.0</td>\n      <td>So, this guy (these guys?) did the last piece ...</td>\n      <td>2005-09-02 18:12:52</td>\n      <td>2005</td>\n    </tr>\n  </tbody>\n</table>\n</div>"
     },
     "metadata": {}
    }
   ]
  },
  {
   "cell_type": "code",
   "source": [
    "# Viewing how the count frequency of reviews per year and sentiment has changed due the sampling procedure\n",
    "print(df_yelp_sampled.groupby(['year', 'stars']).size())"
   ],
   "metadata": {
    "pycharm": {
     "name": "#%%\n"
    },
    "collapsed": true,
    "jupyter": {
     "outputs_hidden": true
    }
   },
   "execution_count": 3,
   "outputs": [
    {
     "name": "stdout",
     "output_type": "stream",
     "text": "year  stars\n\n2005  1.0          30\n\n      5.0         284\n\n2006  1.0         141\n\n      5.0        1476\n\n2007  1.0         678\n\n      5.0        5210\n\n2008  1.0        2383\n\n      5.0       14364\n\n2009  1.0        5355\n\n      5.0       22502\n\n2010  1.0       10614\n\n      5.0       42710\n\n2011  1.0       21036\n\n      5.0       74496\n\n2012  1.0       31063\n\n      5.0       97089\n\n2013  1.0       46039\n\n      5.0      100000\n\n2014  1.0       68635\n\n      5.0      100000\n\n2015  1.0       97968\n\n      5.0      100000\n\n2016  1.0      100000\n\n      5.0      100000\n\n2017  1.0      100000\n\n      5.0      100000\n\n2018  1.0      100000\n\n      5.0      100000\n\n2019  1.0      100000\n\n      5.0      100000\n\n2020  1.0      100000\n\n      5.0      100000\n\n2021  1.0      100000\n\n      5.0      100000\n\n2022  1.0        6607\n\n      5.0       16565\n\ndtype: int64\n"
    }
   ]
  },
  {
   "cell_type": "code",
   "execution_count": 2,
   "outputs": [
    {
     "name": "stdout",
     "output_type": "stream",
     "text": [
      "\n",
      "\\begin{table}[ht]\n",
      "\\centering\n",
      "\\begin{tabular}{lllll}\n",
      "\\hline\n",
      "      & IMDb        &              & Yelp        &             \\\\\n",
      "\\hline\n",
      " Year & 1 x $\\star$ & 10 x $\\star$ & 1 x $\\star$ & 5 x $\\star$ \\\\\n",
      " 2000 & 5252        & 20734        & -           & -           \\\\\n",
      " 2001 & 7071        & 26649        & -           & -           \\\\\n",
      " 2002 & 8769        & 31067        & -           & -           \\\\\n",
      " 2003 & 8785        & 29519        & -           & -           \\\\\n",
      " 2004 & 8635        & 28578        & -           & -           \\\\\n",
      " 2005 & 16906       & 50591        & 30          & 284         \\\\\n",
      " 2006 & 21533       & 64874        & 141         & 1476        \\\\\n",
      " 2007 & 16336       & 41210        & 678         & 5210        \\\\\n",
      " 2008 & 14901       & 31690        & 2383        & 14364       \\\\\n",
      " 2009 & 12652       & 26051        & 5355        & 22502       \\\\\n",
      " 2010 & 11954       & 24511        & 10614       & 42710       \\\\\n",
      " 2011 & 10757       & 23041        & 21036       & 74496       \\\\\n",
      " 2012 & 13157       & 28080        & 31063       & 97089       \\\\\n",
      " 2013 & 14164       & 29608        & 46039       & 100000      \\\\\n",
      " 2014 & 16059       & 34138        & 68635       & 100000      \\\\\n",
      " 2015 & 16606       & 34493        & 97968       & 100000      \\\\\n",
      " 2016 & 15053       & 33428        & 100000      & 100000      \\\\\n",
      " 2017 & 24727       & 45509        & 100000      & 100000      \\\\\n",
      " 2018 & 51259       & 100000       & 100000      & 100000      \\\\\n",
      " 2019 & 83048       & 100000       & 100000      & 100000      \\\\\n",
      " 2020 & 100000      & 100000       & 100000      & 100000      \\\\\n",
      " 2021 & -           & -            & 100000      & 100000      \\\\\n",
      " 2022 & -           & -            & 6607        & 16565       \\\\\n",
      "\\hline\n",
      "\\end{tabular}\n",
      "\\caption{The number of negative (one star) and positive (five stars for  Yelp, ten stars for IMDb) reviews for each dataset by year.}\n",
      "\\end{table}\n",
      "\n"
     ]
    }
   ],
   "source": [
    "# Getting the count frequency of reviews for both the sampled IMDb and Yelp dataframe\n",
    "data_imdb = df_imdb_sampled.groupby(['year', 'rating']).size()\n",
    "data_yelp = df_yelp_sampled.groupby(['year', 'stars']).size()\n",
    "\n",
    "# Converting the count frequency data again into dataframes, split the year-rating index into columns of the dataframes, and pivot\n",
    "# the dataframes to reshape them with 'year' as the index, 'rating' as columns, and 'count' as values\n",
    "imdb_cf = pd.DataFrame(data_imdb.items(), columns = ['year_rating', 'count'])\n",
    "imdb_cf[['year', 'rating']] = pd.DataFrame(imdb_cf['year_rating'].tolist(), index = imdb_cf.index)\n",
    "imdb_cf = imdb_cf.pivot(index='year', columns='rating', values='count').reset_index()\n",
    "yelp_cf = pd.DataFrame(data_yelp.items(), columns=['year_rating', 'count'])\n",
    "yelp_cf[['year', 'stars']] = pd.DataFrame(yelp_cf['year_rating'].tolist(), index=yelp_cf.index)\n",
    "yelp_cf = yelp_cf.pivot(index='year', columns='stars', values='count').reset_index()\n",
    "\n",
    "# Merging dataframes based on common years\n",
    "df_merged = imdb_cf.merge(yelp_cf, on='year', how='outer', suffixes=('_imdb', '_yelp'))\n",
    "\n",
    "# Replacing NaN with \"-\"\n",
    "df_merged = df_merged.fillna('-')\n",
    "\n",
    "# Creating table headers and subheaders with LaTeX code for stars\n",
    "headers = ['', 'IMDb', '', 'Yelp', '']\n",
    "subheaders = ['Year', r'1 x $\\star$', r'10 x $\\star$', r'1 x $\\star$', r'5 x $\\star$']\n",
    "\n",
    "# Defining a custom formatting function to display integers without decimal places in the final latex-style table\n",
    "def format_int(x):\n",
    "    if x == '-':\n",
    "        return x\n",
    "    else:\n",
    "        return int(x)\n",
    "\n",
    "# Applying the formatting function to all values in the DataFrame\n",
    "df_merged = df_merged.applymap(format_int)\n",
    "\n",
    "table = [headers] + [subheaders] + df_merged.values.tolist()\n",
    "\n",
    "# Setting a subtitle for the table\n",
    "subtitle = \"The number of negative (one star) and positive (five stars for  Yelp, ten stars for IMDb) reviews for each dataset by year.\"\n",
    "\n",
    "# Converting the data to LaTeX-style table using tabulate\n",
    "str_table = tabulate(table, tablefmt='latex_raw', headers='firstrow')\n",
    "\n",
    "# Construct the complete LaTeX table\n",
    "table_latex = f\"\"\"\n",
    "\\\\begin{{table}}[ht]\n",
    "\\\\centering\n",
    "{str_table}\n",
    "\\\\caption{{{subtitle}}}\n",
    "\\\\end{{table}}\n",
    "\"\"\"\n",
    "\n",
    "# Printing the table to access the code for some latex editor\n",
    "print(table_latex)"
   ],
   "metadata": {
    "collapsed": false,
    "pycharm": {
     "name": "#%%\n"
    }
   }
  },
  {
   "cell_type": "markdown",
   "source": [
    "#### Functions"
   ],
   "metadata": {
    "pycharm": {
     "name": "#%% md\n"
    }
   }
  },
  {
   "cell_type": "code",
   "source": [
    "# Define a function to load a lexicon from a file and return it as a dictionary, here for the Vader lexicon. The function takes a 'path' parameter, which is the file path of the lexicon.\n",
    "def load_lexicon(path: str):\n",
    "\n",
    "    # Initialize an empty dictionary to store the lexicon.\n",
    "    dict_lexicon = {}\n",
    "\n",
    "    # Open the file at the specified 'path' in read ('r') mode.\n",
    "    file = open(path, 'r')\n",
    "\n",
    "    # Read all lines from the file into a list called 'lines'.\n",
    "    lines = file.readlines()\n",
    "\n",
    "    # Iterate through each line in the 'lines' list.\n",
    "    for line in lines:\n",
    "        # Split each line into a list of a word and sentiment score using whitespace as the delimiter.\n",
    "        ls_line = line.split()\n",
    "\n",
    "        # Create a key-value pair in the 'dict_lexicon' dictionary, where the key is a word, and the value is a sentiment score\n",
    "        dict_lexicon[ls_line[0]] = ls_line[1]\n",
    "\n",
    "    # Close the file to free up system resources.\n",
    "    file.close()\n",
    "\n",
    "    # Return the loaded lexicon as a dictionary.\n",
    "    return dict_lexicon\n",
    "\n",
    "\n",
    "# Define a function to filter and modify a lexicon dictionary to state absolute sentiment scores. The function takes a 'lexicon' dictionary as input and allows for optional absolute value\n",
    "# transformation, means if 'absolute' is True, the function returns a dictionary with absolute values of sentiment scores, and if False, it returns the original sentiment scores.\n",
    "def get_lexicon(lexicon: dict, absolute=False):\n",
    "\n",
    "    # Initialize an empty dictionary to store the filtered or modified lexicon.\n",
    "    dict_lexicon = {}\n",
    "\n",
    "    # Iterate through each key in the input 'lexicon' dictionary.\n",
    "    for key in lexicon:\n",
    "        # Try to convert the value associated with the key to a float.\n",
    "        try:\n",
    "            value = float(lexicon[key])\n",
    "\n",
    "            # Check if the converted value is not equal to 0.\n",
    "            if value != 0:\n",
    "                # If 'absolute' is True, store the absolute value of the sentiment score.\n",
    "                if absolute:\n",
    "                    dict_lexicon[key] = abs(value)\n",
    "                # If 'absolute' is False (or not provided), store the original sentiment score.\n",
    "                else:\n",
    "                    dict_lexicon[key] = value\n",
    "\n",
    "        # If the conversion to float raises a ValueError (e.g., the value is not numeric), skip the key-value pair and continue to the next key.\n",
    "        except ValueError:\n",
    "            pass\n",
    "\n",
    "    # Return the filtered or modified lexicon as a dictionary.\n",
    "    return dict_lexicon\n",
    "\n",
    "\n",
    "# Define a function to split a dataframe into multiple dataframes based on 'time_column' and 'sentiment_column'.\n",
    "# The function takes a dataframe 'df', a string 'time_column' representing time information, and a string 'sentiment_column' representing sentiment labels.\n",
    "def get_split_dataframes(df: pd.DataFrame, time_column: str, sentiment_column: str):\n",
    "\n",
    "    # Group the DataFrame 'df' by both 'time_column' and 'sentiment_column'.\n",
    "    grouped = df.groupby([time_column, sentiment_column])\n",
    "\n",
    "    # Initialize an empty dictionary to store the split DataFrames.\n",
    "    dict_dataframes = {}\n",
    "\n",
    "    # Iterate through each group created by the grouping operation.\n",
    "    for (time_value, label_value), df_split in grouped:\n",
    "        # Create a key for the dictionary using a tuple of 'time_value' and 'label_value'.\n",
    "        key = (time_value, label_value)\n",
    "\n",
    "        # Store the DataFrame corresponding to the key in the dictionary.\n",
    "        dict_dataframes[key] = df_split\n",
    "\n",
    "    # Return the dictionary containing split dataframes.\n",
    "    return dict_dataframes"
   ],
   "metadata": {
    "collapsed": false,
    "pycharm": {
     "name": "#%%\n"
    },
    "jupyter": {
     "outputs_hidden": false
    },
    "execution": {
     "iopub.status.busy": "2023-08-11T18:06:17.682137Z",
     "iopub.execute_input": "2023-08-11T18:06:17.682510Z",
     "iopub.status.idle": "2023-08-11T18:06:17.692754Z",
     "shell.execute_reply.started": "2023-08-11T18:06:17.682480Z",
     "shell.execute_reply": "2023-08-11T18:06:17.691760Z"
    },
    "trusted": true
   },
   "execution_count": 5,
   "outputs": []
  },
  {
   "cell_type": "code",
   "source": [
    "# Metric: Word-level or Absolute sentiment\n",
    "# Define a function to calculate word-level sentiment scores for reviews in a DataFrame.\n",
    "# The function takes a dataframe 'df', a string 'review_column' indicating a column containing reviews, and a 'dict_sentiment' dictionary for word sentiment scores.\n",
    "def get_word_level_sentiment(df: pd.DataFrame, review_column: str, dict_sentiment: dict):\n",
    "\n",
    "    # Initialize a list to store the calculated sentiment scores for each review.\n",
    "    ls_sentiment = []\n",
    "\n",
    "    # Extract the keys (words) from the 'dict_sentiment' dictionary.\n",
    "    keys = list(dict_sentiment.keys())\n",
    "\n",
    "    # Create a list of zeros with the same length as 'keys' to count word occurrences.\n",
    "    counts = [0] * len(keys)\n",
    "\n",
    "    # Iterate through each review in the 'review_column'.\n",
    "    for review in df[review_column]:\n",
    "        # Initialize a dictionary to count the occurrences of each word in the review.\n",
    "        dic_counts = dict(zip(keys, counts))\n",
    "\n",
    "        # Tokenize the review into words\n",
    "        words = re.findall(r\"[\\w']+|[.,!?;]\", review)\n",
    "\n",
    "        # Iterate through each word in the review.\n",
    "        for word in words:\n",
    "            # Check if the word is in the 'dict_sentiment'.\n",
    "            if word in dict_sentiment:\n",
    "                # Increment the count of the word in the 'dic_counts' dictionary.\n",
    "                dic_counts[word] += 1\n",
    "\n",
    "        # Initialize variables for calculating the word-level or absolute sentiment score by Ziser et al (2023)\n",
    "        numerator = 0\n",
    "        denominator = 0\n",
    "\n",
    "        # Calculate the weighted average sentiment score for the review.\n",
    "        for key, value in dic_counts.items():\n",
    "            # Check if the word occurred at least once in the review.\n",
    "            if value > 0:\n",
    "\n",
    "                # Get the sentiment value for the word from 'dict_sentiment'.\n",
    "                sentiment_value = dict_sentiment[key]\n",
    "\n",
    "                # Update the numerator and denominator for the weighted average.\n",
    "                numerator += value * sentiment_value\n",
    "                denominator += value\n",
    "\n",
    "        try:\n",
    "            # Calculate the weighted average sentiment for the review and append it to 'ls_sentiment'. If the sentiment is zero, the result is set to NaN.\n",
    "            sentiment = numerator / denominator\n",
    "            if sentiment != 0:\n",
    "                ls_sentiment.append(sentiment)\n",
    "            else:\n",
    "                ls_sentiment.append(np.nan)\n",
    "\n",
    "        # Handle the case of ZeroDivisionError (denominator is zero) by setting the result to NaN.\n",
    "        except ZeroDivisionError:\n",
    "            ls_sentiment.append(np.nan)\n",
    "\n",
    "    # Calculate the average and standard deviation of the word-level or absolute sentiment scores for all reviews.\n",
    "    average_sentiment = np.nanmean(ls_sentiment)\n",
    "    std_sentiment = np.nanstd(ls_sentiment)\n",
    "\n",
    "    # Return a list of sentiment scores for each review, the average sentiment, and the standard deviation.\n",
    "    return ls_sentiment, average_sentiment, std_sentiment\n",
    "\n",
    "\n",
    "# Metric: Enhanced Sentiment\n",
    "# Define a function to calculate enhanced sentiment scores for reviews in a dataframe. The function takes a DataFrame 'df' and a string 'review_column' indicating the column containing reviews.\n",
    "def get_enhanced_sentiment(df: pd.DataFrame, review_column: str):\n",
    "\n",
    "    # Initialize a list to store the calculated enhanced sentiment scores for each review.\n",
    "    ls_sentiment = []\n",
    "\n",
    "    # Initialize a SentimentIntensityAnalyzer for sentiment analysis. The analyzer uses external lexicon files provided by Ziser et al (2023).\n",
    "    analyzer = SentimentIntensityAnalyzer(lexicon_file=\"VADER/vader_lexicon.txt\", emoji_lexicon=\"VADER/emoji_utf8_lexicon.txt\")\n",
    "\n",
    "    # Iterate through each review in the 'review_column'.\n",
    "    for review in df[review_column]:\n",
    "        # Perform sentiment analysis on the review using the VADER sentiment analyzer.\n",
    "        vs = analyzer.polarity_scores(review)\n",
    "\n",
    "        # Extract the 'compound' sentiment score, which represents the overall sentiment.\n",
    "        sentiment = vs['compound']\n",
    "\n",
    "        # Check if the sentiment score is not zero.\n",
    "        if sentiment != 0:\n",
    "            ls_sentiment.append(sentiment)\n",
    "        else:\n",
    "            # If the sentiment is zero, set the result to NaN.\n",
    "            ls_sentiment.append(np.nan)\n",
    "\n",
    "    # Calculate the average and standard deviation of enhanced sentiment scores for all reviews.\n",
    "    average_sentiment = np.nanmean(ls_sentiment)\n",
    "    std_sentiment = np.nanstd(ls_sentiment)\n",
    "\n",
    "    # Return a list of enhanced sentiment scores for each review, the average enhanced sentiment, and the standard deviation.\n",
    "    return ls_sentiment, average_sentiment, std_sentiment\n",
    "\n",
    "\n",
    "# Metric: Lexical Diversity via Zipfian Distribution\n",
    "# Define a function to calculate the lexical diversity based on the head size of a Zipfian distribution of words in reviews. The function takes a DataFrame 'df', a string 'review_column' indicating a column\n",
    "# containing reviews, and a sentiment dictionary 'dict_sentiment'.\n",
    "def get_lexical_diversity(df: pd.DataFrame, review_column: str, dict_sentiment: dict):\n",
    "\n",
    "    # Extract the keys aka words from the 'dict_sentiment' dictionary.\n",
    "    keys = list(dict_sentiment.keys())\n",
    "\n",
    "    # Create a list of zeros with the same length as 'keys' to count word occurrences.\n",
    "    counts = [0] * len(keys)\n",
    "\n",
    "    # Create a dictionary 'dic_counts' to store word counts with keys as words and values as counts.\n",
    "    dic_counts = dict(zip(keys, counts))\n",
    "\n",
    "    # Iterate through each review in the 'review_column'.\n",
    "    for review in df[review_column]:\n",
    "        # Tokenize the review into words.\n",
    "        words = re.findall(r\"[\\w']+|[.,!?;]\", review)\n",
    "\n",
    "        # Iterate through each word in the review.\n",
    "        for word in words:\n",
    "            # Check if the word is in the 'dict_sentiment'.\n",
    "            if word in dict_sentiment:\n",
    "                # Increment the count of the word in the 'dic_counts' dictionary.\n",
    "                dic_counts[word] += 1\n",
    "\n",
    "    # Sort the words in 'dic_counts' by their counts in descending order.\n",
    "    sorted_frequent_words = sorted(dic_counts, key=dic_counts.get, reverse=True)\n",
    "\n",
    "    # Create a new dictionary 'dict_frequent_words' to store in decreasing order sorted words with their counts.\n",
    "    dict_frequent_words = {key: dic_counts[key] for key in sorted_frequent_words}\n",
    "\n",
    "    # Create a list 'ls_frequent_words' containing word counts in the same order as 'sorted_frequent_words'.\n",
    "    ls_frequent_words = list(dict_frequent_words.values())\n",
    "\n",
    "    # Initialize variables for calculating lexical diversity as described by Ziser et al (2023) by looking at the head width of a Zipfian distribution\n",
    "    numerator = 0\n",
    "    denominator = 0\n",
    "\n",
    "    # Calculate upper index limits for numerator and denominator.\n",
    "    numerator_upper_index = math.ceil(len(dict_frequent_words) / 100)\n",
    "    denominator_upper_index = len(dict_frequent_words)\n",
    "\n",
    "    # Calculate the sum of word counts for the top 1% of words for the numerator.\n",
    "    for i in range(numerator_upper_index):\n",
    "        numerator += ls_frequent_words[i]\n",
    "\n",
    "    # Calculate the sum of word counts for all words for the denominator.\n",
    "    for i in range(denominator_upper_index):\n",
    "        denominator += ls_frequent_words[i]\n",
    "\n",
    "    # Calculate lexical diversity as the ratio of the sum of counts for the top 1% of words to the sum of counts for all words. Handle the case of ZeroDivisionError by setting the result to 0.\n",
    "    try:\n",
    "        lexical_diversity = numerator / denominator\n",
    "    except ZeroDivisionError:\n",
    "        lexical_diversity = 0\n",
    "\n",
    "    # Return the calculated lexical diversity and the dictionary of frequent words.\n",
    "    return lexical_diversity, dict_frequent_words\n",
    "\n",
    "\n",
    "# Metric: Informativeness via review length\n",
    "# Define a function to calculate the review's informativeness based on their average word length. The function takes a dataframe 'df' and a string 'review_column' indicating a column containing reviews.\n",
    "def get_informativeness(df: pd.DataFrame, review_column: str):\n",
    "\n",
    "    # Initialize a list 'ls_length' to store the length of each review, means the number of words.\n",
    "    ls_length = []\n",
    "\n",
    "    # Iterate through each review in the 'review_column'.\n",
    "    for review in df[review_column]:\n",
    "        # Tokenize the review into words.\n",
    "        words = re.findall(r\"[\\w']+|[.,!?;]\", review)\n",
    "\n",
    "        # Calculate the length of the review and append it to 'ls_length'.\n",
    "        length = len(words)\n",
    "        ls_length.append(length)\n",
    "\n",
    "    # Calculate the average word length, which approximates the informativeness, of all reviews as well as its standard deviation.\n",
    "    average_informativeness = np.nanmean(ls_length)\n",
    "    std_informativeness = np.nanstd(ls_length)\n",
    "\n",
    "    # Return the calculated average informativeness and standard deviation.\n",
    "    return average_informativeness, std_informativeness\n",
    "\n",
    "\n",
    "# Metric: Dichotomy of reviews via one-sided reviews\n",
    "# Define a function that analyzes sentiment scores and ratings in a dataframe to determine the proportion of one-sided reviews, where the reviews just get assigned\n",
    "# their actual label but the opposite label is completely absent. The function takes as input a dataframe \"df\" containing the reviews, a string \"review_column\"\n",
    "# that gives the \"df\"'s column containing the review text, a string \"sentiment_column\" that states the column of \"df\" containing the sentiment labels, and a float\n",
    "# \"min\" that gives the sentiment label for negative reviews.\n",
    "def get_dichotomy(df: pd.DataFrame, review_column: str, sentiment_column: str, min: float):\n",
    "    # Initialize a counter for one-sided reviews\n",
    "    one_sided_reviews = 0\n",
    "\n",
    "    # Initialize a sentiment analyzer with specified lexicon files as provided by Ziser et al (2023)\n",
    "    analyzer = SentimentIntensityAnalyzer(lexicon_file=\"VADER/vader_lexicon.txt\", emoji_lexicon=\"VADER/emoji_utf8_lexicon.txt\")\n",
    "\n",
    "    # Iterate through the rows of the DataFrame\n",
    "    for i in df.index:\n",
    "        # Get the review text from the specified column\n",
    "        review = df[review_column][i]\n",
    "\n",
    "        # Perform sentiment analysis on the review text\n",
    "        vs = analyzer.polarity_scores(review)\n",
    "\n",
    "        # Get the sentiment label from the dataframe\n",
    "        rating = df[sentiment_column][i]\n",
    "\n",
    "        # Determine the review's label and its opposite based on the negative sentiment label\n",
    "        if rating == min:\n",
    "            label = 'neg'\n",
    "            opposite = 'pos'\n",
    "        else:\n",
    "            label = 'pos'\n",
    "            opposite = 'neg'\n",
    "\n",
    "        # Check if the sentiment score for the label is positive and the opposite label score is zero\n",
    "        if vs[label] > 0 and vs[opposite] == 0:\n",
    "            # Increment the count of one-sided reviews\n",
    "            one_sided_reviews += 1\n",
    "\n",
    "    # Calculate the dichotomy metric as the ratio of one-sided reviews to the total number of reviews\n",
    "    dichotomy = one_sided_reviews / len(df[review_column])\n",
    "\n",
    "    # Return the dichotomy metric\n",
    "    return dichotomy\n",
    "\n",
    "\n",
    "# Side-by-side plots for reviews with positive and negative sentiment\n",
    "# Define a function to create a side-by-side comparison graph for time series with positive and negative sentiment of a metric of interest over time for two dataframes, 'df' and 'df2',\n",
    "# incorporating these metric results. The function takes several input parameters as the string 'time_column' indicating the column name containing time information, the string\n",
    "# 'sentiment_column' giving the column name for sentiment labels in 'df', the string 'sentiment_column2' stating the column name for sentiment labels in 'df2', the string 'interest_column'\n",
    "# indicating the column name for giving the metric values of interest, and the string  'ylabel' giving the label for the plots' y-axis.\n",
    "def get_senti_graph(df: pd.DataFrame, df2: pd.DataFrame, time_column: str, sentiment_column: str, sentiment_column2: str, interest_column: str, ylabel: str):\n",
    "\n",
    "    # Find the minimum value indicating negative sentiment in both 'sentiment_column' and 'sentiment_column2', means the\n",
    "    min_sentiment = df[sentiment_column].min(skipna=False)\n",
    "    min_sentiment2 = df2[sentiment_column2].min(skipna=False)\n",
    "\n",
    "    # Separate data for positive and negative sentiment in 'df'.\n",
    "    x_positive = df.loc[df[sentiment_column] != min_sentiment, time_column]\n",
    "    y_positive = df.loc[df[sentiment_column] != min_sentiment, interest_column]\n",
    "    x_negative = df.loc[df[sentiment_column] == min_sentiment, time_column]\n",
    "    y_negative = df.loc[df[sentiment_column] == min_sentiment, interest_column]\n",
    "\n",
    "    # Separate data for positive and negative sentiment in 'df2'.\n",
    "    x_positive2 = df2.loc[df2[sentiment_column2] != min_sentiment2, time_column]\n",
    "    y_positive2 = df2.loc[df2[sentiment_column2] != min_sentiment2, interest_column]\n",
    "    x_negative2 = df2.loc[df2[sentiment_column2] == min_sentiment2, time_column]\n",
    "    y_negative2 = df2.loc[df2[sentiment_column2] == min_sentiment2, interest_column]\n",
    "\n",
    "    # Create a side-by-side comparison graph with two subplots (ax1 and ax2).\n",
    "    fig, (ax1, ax2) = plt.subplots(1, 2, figsize=(12, 6))\n",
    "    fig.set_facecolor('white')\n",
    "\n",
    "    # Plot positive sentiment data for both 'df' and 'df2' on the first subplot (ax1).\n",
    "    ax1.plot(x_positive, y_positive, 'g-o', label='IMDb')\n",
    "    ax1.plot(x_positive2, y_positive2, 'y-o', label='Yelp')\n",
    "\n",
    "    ax1.set_title('Positive')\n",
    "    ax1.set_xlabel('Time')\n",
    "    ax1.set_ylabel(ylabel)\n",
    "\n",
    "    # Set x-axis ticks and labels based on unique values from 'x_positive' and 'x_positive2'.\n",
    "    ax1.set_xticks(list(set(pd.concat([x_positive, x_positive2]))))\n",
    "    ax1.set_xticklabels(list(set(pd.concat([x_positive, x_positive2]))), rotation=45, fontsize=7)\n",
    "\n",
    "    ax1.legend()\n",
    "\n",
    "    # Plot negative sentiment data for both 'df' and 'df2' on the second subplot (ax2).\n",
    "    ax2.plot(x_negative, y_negative, 'g-o', label='IMDb')\n",
    "    ax2.plot(x_negative2, y_negative2, 'y-o', label='Yelp')\n",
    "\n",
    "    ax2.set_title('Negative')\n",
    "    ax2.set_xlabel('Time')\n",
    "    ax2.set_ylabel(ylabel)\n",
    "\n",
    "    # Set x-axis ticks and labels based on unique values from 'x_negative' and 'x_negative2'.\n",
    "    ax2.set_xticks(list(set(pd.concat([x_negative, x_negative2]))))\n",
    "    ax2.set_xticklabels(list(set(pd.concat([x_negative, x_negative2]))), rotation=45, fontsize=7)\n",
    "\n",
    "    ax2.legend()\n",
    "\n",
    "    # Adjust the layout and display the plot.\n",
    "    plt.tight_layout(pad=5.0)\n",
    "    plt.show()\n",
    "\n",
    "\n",
    "# Intense Reviews\n",
    "# Define a function that retrieves the top 'n' intense reviews based on sentiment scores. The function takes a DataFrame 'df', an integer 'n', a column name 'review_column' for the reviews,\n",
    "# a boolean 'for_min' indicating whether to consider reviews with very negative sentiment (True) or very positive sentiment (False), and a dictionary 'dict_sentiment' containing sentiment scores for words.\n",
    "def get_n_intense_reviews(df: pd.DataFrame, n: int, review_column: str, for_min: bool, dict_sentiment: dict):\n",
    "\n",
    "    # Create a filtered dictionary 'dict_intense_sentiment' containing words with sentiment scores below -3 (for very negative sentiment) if 'for_min' is True,\n",
    "    # or above 3 (for very positive sentiment) if 'for_min' is False.\n",
    "    if for_min:\n",
    "        dict_intense_sentiment = {key: value for (key, value) in dict_sentiment.items() if value <= (-3)}\n",
    "    else:\n",
    "        dict_intense_sentiment = {key: value for (key, value) in dict_sentiment.items() if value >= 3}\n",
    "\n",
    "    # Initialize empty lists to store intense reviews and their corresponding lengths.\n",
    "    ls_intense_reviews = []\n",
    "    ls_length = []\n",
    "\n",
    "    # Iterate through each review in the 'review_column' of the DataFrame.\n",
    "    for review in df[review_column]:\n",
    "        # Tokenize the review into words, including punctuation marks.\n",
    "        words = re.findall(r\"[\\w']+|[.,!?;]\", review)\n",
    "\n",
    "        # Check if any word in the review exists in 'dict_intense_sentiment'.\n",
    "        # If a match is found, add the review to 'ls_intense_reviews' and its length to 'ls_length'.\n",
    "        for word in words:\n",
    "            if word in dict_intense_sentiment:\n",
    "                ls_intense_reviews.append(review)\n",
    "                ls_length.append(len(review))\n",
    "                break\n",
    "\n",
    "    # Create a dictionary 'dic_intense_reviews' by zipping the intense reviews and their corresponding lengths.\n",
    "    dic_intense_reviews = dict(zip(ls_intense_reviews, ls_length))\n",
    "\n",
    "    # Sort the intense reviews based on their lengths in ascending order.\n",
    "    sorted_intense_reviews = sorted(dic_intense_reviews, key=dic_intense_reviews.get, reverse=False)\n",
    "\n",
    "    # Create a new dictionary 'dict_sorted_intense_reviews' with the sorted intense reviews and their lengths.\n",
    "    dict_sorted_intense_reviews = {key: dic_intense_reviews[key] for key in sorted_intense_reviews}\n",
    "\n",
    "    # Get the top 'n' intense reviews as a list 'ls_n_intense_reviews'.\n",
    "    ls_n_intense_reviews = list(dict_sorted_intense_reviews.keys())[:n]\n",
    "\n",
    "    # Return the list of top 'n' intense reviews.\n",
    "    return ls_n_intense_reviews\n",
    "\n",
    "\n",
    "# Accuracy\n",
    "# Define a function to calculate accuracy based on sentiment values. The function takes a DataFrame 'df', a column name 'sentiment_column' containing sentiment labels (positive/negative),\n",
    "# and a list 'ls_sentiment' containing sentiment scores.\n",
    "def accuracy(df: pd.DataFrame, sentiment_column: str, ls_sentiment: list):\n",
    "\n",
    "    # Find the possible sentiment labels in the 'sentiment_column'.\n",
    "    min_sentiment = df[sentiment_column].min(skipna=False)\n",
    "    max_sentiment = df[sentiment_column].max(skipna=False)\n",
    "\n",
    "    # Initialize the numerator and denominator for accuracy calculation.\n",
    "    numerator = 0\n",
    "\n",
    "    # Calculate the denominator as the total number of rows in the DataFrame, excluding rows where sentiment scores are NaN (not available).\n",
    "    denominator = len(df) - np.sum(np.isnan(ls_sentiment))\n",
    "\n",
    "    # Iterate through each row in the DataFrame.\n",
    "    for i in range(len(df)):\n",
    "        # Check if the sentiment in the DataFrame is negative and the corresponding sentiment label in 'ls_sentiment' is negative.\n",
    "        # If both conditions are met, increment the numerator.\n",
    "        if df.loc[i, sentiment_column] == min_sentiment and ls_sentiment[i] < 0:\n",
    "            numerator += 1\n",
    "\n",
    "        # Check if the sentiment in the DataFrame is positive and the corresponding sentiment label in 'ls_sentiment' is positive.\n",
    "        # If both conditions are met, increment the numerator.\n",
    "        if df.loc[i, sentiment_column] == max_sentiment and ls_sentiment[i] > 0:\n",
    "            numerator += 1\n",
    "\n",
    "    # Calculate the accuracy as the ratio of the numerator to the denominator.\n",
    "    accuracy = numerator / denominator\n",
    "\n",
    "    # Return the computed accuracy.\n",
    "    return accuracy\n",
    "\n",
    "\n",
    "# Mann-Kendall Tests\n",
    "# Define a function to perform the Mann-Kendall test for multiple time series based on a sentiment column and return corrected p-values for each test.\n",
    "# The function takes a DataFrame 'df', a list 'ls_time_series' containing column names of the time series data at stack, and a 'sentiment_column' for sentiment value indicators.\n",
    "def controlled_mannkendall(df: pd.DataFrame, ls_time_series: list, sentiment_column: str):\n",
    "\n",
    "    # Initialize an empty list to store p-values from Mann-Kendall tests.\n",
    "    ls_pvals = []\n",
    "\n",
    "    # Find the minimum sentiment value in the 'sentiment_column' to indicate a negative sentiment.\n",
    "    min_sentiment = df[sentiment_column].min(skipna=False)\n",
    "\n",
    "    # Iterate through each time series specified in 'ls_time_series'.\n",
    "    for time_series in ls_time_series:\n",
    "        # Separate the time series data into two groups based on sentiment: 'neg' for rows with the minimum sentiment value, and 'pos' for rows with sentiment values different from the minimum.\n",
    "        neg = df.loc[df[sentiment_column] == min_sentiment, time_series]\n",
    "        pos = df.loc[df[sentiment_column] != min_sentiment, time_series]\n",
    "\n",
    "        # Perform the Mann-Kendall test separately for 'neg' and 'pos' time series data to see in this subgroups for language trends\n",
    "        test_neg = mk.original_test(neg)\n",
    "        test_pos = mk.original_test(pos)\n",
    "\n",
    "        # Append the p-values from both tests to the 'ls_pvals' list.\n",
    "        ls_pvals.append(test_neg.p)\n",
    "        ls_pvals.append(test_pos.p)\n",
    "\n",
    "    # Correct the p-values for multiple comparisons using the False Discovery Rate (FDR) method. This helps control the family-wise error rate when performing multiple tests.\n",
    "    ls_pvals_corrected = fdrcorrection(ls_pvals, alpha=0.05, method='n', is_sorted=False)\n",
    "\n",
    "    # Return the corrected p-values as a list.\n",
    "    return ls_pvals_corrected"
   ],
   "metadata": {
    "collapsed": false,
    "pycharm": {
     "name": "#%%\n"
    },
    "jupyter": {
     "outputs_hidden": false
    },
    "execution": {
     "iopub.status.busy": "2023-08-11T18:06:19.708060Z",
     "iopub.execute_input": "2023-08-11T18:06:19.708861Z",
     "iopub.status.idle": "2023-08-11T18:06:19.746231Z",
     "shell.execute_reply.started": "2023-08-11T18:06:19.708826Z",
     "shell.execute_reply": "2023-08-11T18:06:19.745145Z"
    },
    "trusted": true
   },
   "execution_count": 27,
   "outputs": []
  },
  {
   "cell_type": "markdown",
   "source": [],
   "metadata": {}
  },
  {
   "cell_type": "markdown",
   "source": [
    "#### Paper Reproduction Analysis"
   ],
   "metadata": {
    "pycharm": {
     "name": "#%% md\n"
    }
   }
  },
  {
   "cell_type": "markdown",
   "source": [
    "##### Load VADER Lexicon"
   ],
   "metadata": {
    "pycharm": {
     "name": "#%% md\n"
    }
   }
  },
  {
   "cell_type": "code",
   "source": [
    "# Load a sentiment lexicon from a file 'vader_lexicon.txt' and store it in 'lexicon'.\n",
    "lexicon = load_lexicon('VADER/vader_lexicon.txt')\n",
    "\n",
    "# Create a second versions of the lexicon that stores absolute values of sentiment scores.\n",
    "lexicon_sentiment = get_lexicon(lexicon)\n",
    "lexicon_abs_sentiment = get_lexicon(lexicon, True)"
   ],
   "metadata": {
    "collapsed": false,
    "pycharm": {
     "name": "#%%\n"
    },
    "jupyter": {
     "outputs_hidden": false
    },
    "execution": {
     "iopub.status.busy": "2023-08-11T18:06:48.041843Z",
     "iopub.execute_input": "2023-08-11T18:06:48.042229Z",
     "iopub.status.idle": "2023-08-11T18:06:48.088056Z",
     "shell.execute_reply.started": "2023-08-11T18:06:48.042195Z",
     "shell.execute_reply": "2023-08-11T18:06:48.087044Z"
    },
    "trusted": true
   },
   "execution_count": 6,
   "outputs": []
  },
  {
   "cell_type": "code",
   "source": [
    "# Viewing first 6 entries in the lexicon\n",
    "count = 0\n",
    "for key, value in lexicon_sentiment.items():\n",
    "    if count < 6:\n",
    "        print(f'{key}: {value}')\n",
    "        count += 1\n",
    "    else:\n",
    "        break"
   ],
   "metadata": {
    "pycharm": {
     "name": "#%%\n"
    },
    "execution": {
     "iopub.status.busy": "2023-08-09T14:24:28.916022Z",
     "iopub.execute_input": "2023-08-09T14:24:28.916408Z",
     "iopub.status.idle": "2023-08-09T14:24:28.951146Z",
     "shell.execute_reply.started": "2023-08-09T14:24:28.916379Z",
     "shell.execute_reply": "2023-08-09T14:24:28.950188Z"
    },
    "collapsed": true,
    "jupyter": {
     "outputs_hidden": true
    },
    "trusted": true
   },
   "execution_count": 11,
   "outputs": [
    {
     "name": "stdout",
     "output_type": "stream",
     "text": [
      "$:: -1.5\n",
      "%): -0.4\n",
      "%-): -1.5\n",
      "&-:: -0.4\n",
      "&:: -0.7\n",
      "(%: -0.9\n"
     ]
    }
   ]
  },
  {
   "cell_type": "code",
   "execution_count": 8,
   "outputs": [],
   "source": [
    "# Define a list of words for which enhanced sentiment scores will be calculated to display how affects the word.\n",
    "words = ['bad', 'bad!', 'bad!!!', 'very bad', 'horribly bad', 'not bad', 'not bad at all']\n",
    "\n",
    "# Initialize a list 'ls_enhanced_sentiment' to store enhanced sentiment scores for the words.\n",
    "ls_enhanced_sentiment = []\n",
    "\n",
    "# Initialize a SentimentIntensityAnalyzer for sentiment analysis that uses external lexicon files provided by Ziser et al (2023)\n",
    "analyzer = SentimentIntensityAnalyzer(lexicon_file=\"VADER/vader_lexicon.txt\", emoji_lexicon=\"VADER/emoji_utf8_lexicon.txt\")\n",
    "\n",
    "# Iterate through each word in the 'words' list for sentiment analysis.\n",
    "for word in words:\n",
    "    # Perform sentiment analysis on the word using the VADER sentiment analyzer.\n",
    "    vs = analyzer.polarity_scores(word)\n",
    "\n",
    "    # Extract the 'compound' sentiment score, representing the overall sentiment of the word.\n",
    "    sentiment = vs['compound']\n",
    "\n",
    "    # Append the enhanced sentiment score to 'ls_enhanced_sentiment'.\n",
    "    ls_enhanced_sentiment.append(sentiment)"
   ],
   "metadata": {
    "collapsed": false,
    "pycharm": {
     "name": "#%%\n"
    }
   }
  },
  {
   "cell_type": "code",
   "execution_count": 19,
   "outputs": [
    {
     "name": "stdout",
     "output_type": "stream",
     "text": [
      "\n",
      "\\begin{table}[ht]\n",
      "\\centering\n",
      "\\begin{tabular}{lr}\n",
      "\\hline\n",
      " Term           &   Score \\\\\n",
      "\\hline\n",
      " bad            &  -2.5   \\\\\n",
      " bad!           &  -2.792 \\\\\n",
      " bad!!!         &  -3.376 \\\\\n",
      " very bad       &  -2.793 \\\\\n",
      " horribly bad   &  -2.45  \\\\\n",
      " not bad        &   1.85  \\\\\n",
      " not bad at all &   1.85  \\\\\n",
      "\\hline\n",
      "\\end{tabular}\n",
      "\\caption{Enhancement effects of the improved Vader lexicon for the word \"bad\".}\n",
      "\\end{table}\n",
      "\n"
     ]
    }
   ],
   "source": [
    "# Combine the words and enhanced sentiment scores into a list of tuples.\n",
    "table_data = list(zip(words, ls_enhanced_sentiment))\n",
    "\n",
    "# Define a subtitle for the table.\n",
    "subtitle = 'Enhancement effects of the improved Vader lexicon for the word \"bad\".'\n",
    "\n",
    "# Generate a LaTeX-like table using the 'tabulate' library.\n",
    "str_table = tabulate(table_data, headers=['Term', 'Score'], tablefmt='latex')\n",
    "\n",
    "# Create a complete LaTeX table.\n",
    "table_latex = f\"\"\"\n",
    "\\\\begin{{table}}[ht]\n",
    "\\\\centering\n",
    "{str_table}\n",
    "\\\\caption{{{subtitle}}}\n",
    "\\\\end{{table}}\n",
    "\"\"\"\n",
    "\n",
    "# Printing the table to access the code for some latex editor\n",
    "print(table_latex)"
   ],
   "metadata": {
    "collapsed": false,
    "pycharm": {
     "name": "#%%\n"
    }
   }
  },
  {
   "cell_type": "markdown",
   "source": [
    "##### Compare Accuracy VADER Lexicon With and Without Enhancements, and BERT"
   ],
   "metadata": {
    "collapsed": false,
    "pycharm": {
     "name": "#%% md\n"
    },
    "jupyter": {
     "outputs_hidden": false
    }
   }
  },
  {
   "cell_type": "code",
   "source": [
    "# Group the DataFrame 'df_imdb' by the 'year' and 'rating' columns.\n",
    "grouped = df_imdb.groupby(['year', 'rating'])\n",
    "\n",
    "# Initialize two lists to store training and testing data.\n",
    "ls_imdb_training = []\n",
    "ls_imdb_testing = []\n",
    "\n",
    "# Calculate the desired sample sizes for training and testing.\n",
    "size_training = math.floor(1000 / len(grouped.groups.keys()))  # Round down for even group sizes\n",
    "size_testing = math.floor(4000 / len(grouped.groups.keys()))\n",
    "\n",
    "# Iterate through each group created by the grouping operation.\n",
    "for group_name, group_data in grouped:\n",
    "    # Randomly sample rows from the group data for both training and testing. The sample sizes are determined by 'size_training' and 'size_testing'.\n",
    "    rows = group_data.sample(n=size_training + size_testing, random_state=42, replace=False)\n",
    "\n",
    "    # Split the sampled rows into training and testing portions.\n",
    "    ls_imdb_training.append(rows[:size_training])\n",
    "    ls_imdb_testing.append(rows[size_training:size_training + size_testing])\n",
    "\n",
    "# Concatenate the lists of training and testing DataFrames into two separate DataFrames.\n",
    "df_imdb_training = pd.concat(ls_imdb_training)\n",
    "df_imdb_training.reset_index(drop=True, inplace=True)  # Reset the index for the training DataFrame.\n",
    "\n",
    "df_imdb_testing = pd.concat(ls_imdb_testing)\n",
    "df_imdb_testing.reset_index(drop=True, inplace=True)  # Reset the index for the testing DataFrame.\n",
    "\n",
    "# Save the training and testing dataframe to pickle files for later use.\n",
    "#df_imdb_training.to_pickle('imdb_training.pkl')\n",
    "#df_imdb_testing.to_pickle('imdb_testing.pkl')"
   ],
   "metadata": {
    "collapsed": false,
    "pycharm": {
     "name": "#%%\n"
    }
   },
   "execution_count": null,
   "outputs": []
  },
  {
   "cell_type": "markdown",
   "source": [
    "###### BERT"
   ],
   "metadata": {
    "pycharm": {
     "name": "#%% md\n"
    }
   }
  },
  {
   "cell_type": "code",
   "source": [
    "# See https://www.geeksforgeeks.org/fine-tuning-bert-model-for-sentiment-analysis/\n",
    "# Reload data from pickle file as doing training and testing on Kaggle\n",
    "df_imdb_training = pd.read_pickle('imdb_training.pkl')\n",
    "df_imdb_testing = pd.read_pickle('imdb_testing.pkl')\n",
    "\n",
    "# Do needed preprocessing in terms of BERT, means lowercase the 'review' column\n",
    "df_imdb_training['review'] = df_imdb_training['review'].str.lower()\n",
    "df_imdb_testing['review'] = df_imdb_testing['review'].str.lower()\n",
    "\n",
    "# Create binary Labels that BERT can work with ( 0 for rating 1.0, 1 for other ratings)\n",
    "df_imdb_training['label'] = np.where(df_imdb_training['rating'] == 1.0, 0, 1)\n",
    "df_imdb_testing['label'] = np.where(df_imdb_testing['rating'] == 1.0, 0, 1)\n",
    "\n",
    "# Load the tokenizer for BERT model\n",
    "tokenizer = BertTokenizer.from_pretrained('bert-base-uncased')\n",
    "\n",
    "# Check if the maximum sequence length is appropriate for BERT so one can use padding for shorter reviews\n",
    "# Combine training and testing reviews to check if the maximum sequence length is appropriate for BERT so one can use padding for shorter reviews\n",
    "combined_reviews = list(df_imdb_training['review']) + list(df_imdb_testing['review'])\n",
    "\n",
    "# Find the maximum sequence length and print it\n",
    "possible_max_seq_length = max([len(tokenizer.encode(text)) for text in combined_reviews])\n",
    "print(\"Maximum Sequence Length:\", possible_max_seq_length)"
   ],
   "metadata": {
    "execution": {
     "iopub.status.busy": "2023-08-11T18:07:36.132130Z",
     "iopub.execute_input": "2023-08-11T18:07:36.132489Z",
     "iopub.status.idle": "2023-08-11T18:07:52.174008Z",
     "shell.execute_reply.started": "2023-08-11T18:07:36.132459Z",
     "shell.execute_reply": "2023-08-11T18:07:52.173013Z"
    },
    "trusted": true
   },
   "execution_count": 5,
   "outputs": [
    {
     "output_type": "display_data",
     "data": {
      "text/plain": "Downloading (…)solve/main/vocab.txt:   0%|          | 0.00/232k [00:00<?, ?B/s]",
      "application/vnd.jupyter.widget-view+json": {
       "version_major": 2,
       "version_minor": 0,
       "model_id": "a0710bd67c4c4a73b7f1b62d3e8cbab8"
      }
     },
     "metadata": {}
    },
    {
     "output_type": "display_data",
     "data": {
      "text/plain": "Downloading (…)okenizer_config.json:   0%|          | 0.00/28.0 [00:00<?, ?B/s]",
      "application/vnd.jupyter.widget-view+json": {
       "version_major": 2,
       "version_minor": 0,
       "model_id": "76e2de271ec74a0b9655a28838710faa"
      }
     },
     "metadata": {}
    },
    {
     "output_type": "display_data",
     "data": {
      "text/plain": "Downloading (…)lve/main/config.json:   0%|          | 0.00/570 [00:00<?, ?B/s]",
      "application/vnd.jupyter.widget-view+json": {
       "version_major": 2,
       "version_minor": 0,
       "model_id": "5b47f56bb3cf4ef5b062f170fb3e6b88"
      }
     },
     "metadata": {}
    },
    {
     "name": "stderr",
     "text": "Token indices sequence length is longer than the specified maximum sequence length for this model (577 > 512). Running this sequence through the model will result in indexing errors\n",
     "output_type": "stream"
    },
    {
     "name": "stdout",
     "text": "Maximum Sequence Length: 1965\n",
     "output_type": "stream"
    }
   ]
  },
  {
   "cell_type": "code",
   "source": [
    "# Set the maximum sequence length and batch size\n",
    "max_seq_length = 512\n",
    "batch_size = 16\n",
    "\n",
    "# Use Truncation Strategy as the maximum sequence length is not appropriate for BERT\n",
    "# Encode and preprocess the training data\n",
    "encodings_training = tokenizer(list(df_imdb_training['review']), truncation=True, padding='max_length', max_length=max_seq_length, return_tensors='pt', truncation_strategy='longest_first')\n",
    "labels_training = torch.tensor(list(df_imdb_training['label']), dtype=torch.long)\n",
    "\n",
    "# Encode and preprocess the testing data\n",
    "encodings_testing = tokenizer(list(df_imdb_testing['review']), truncation=True, padding='max_length', max_length=max_seq_length, return_tensors='pt', truncation_strategy='longest_first')\n",
    "\n",
    "# Create training and testing datasets, as well as data loaders\n",
    "dataset_training = TensorDataset(encodings_training['input_ids'], encodings_training['attention_mask'], encodings_training['token_type_ids'], labels_training)\n",
    "dataloader_training = DataLoader(dataset_training, batch_size=batch_size, shuffle=True)\n",
    "dataset_testing = TensorDataset(encodings_testing['input_ids'], encodings_testing['attention_mask'], encodings_testing['token_type_ids'])\n",
    "dataloader_testing = DataLoader(dataset_testing, batch_size=batch_size, shuffle=False)\n",
    "\n",
    "# Determine the number of unique labels\n",
    "num_labels = len(df_imdb_training['review'].unique())\n",
    "\n",
    "# Initialize the BERT model for sequence classification\n",
    "model = BertForSequenceClassification.from_pretrained('bert-base-uncased', num_labels=num_labels)\n",
    "\n",
    "# Set the device for training (GPU if available, otherwise CPU), that is very important as using the Kaggle GPU is necessary\n",
    "device = torch.device('cuda' if torch.cuda.is_available() else 'cpu')\n",
    "model.to(device)\n",
    "\n",
    "# Initialize the optimizer and loss function\n",
    "optimizer = torch.optim.AdamW(model.parameters(), lr=2e-5)\n",
    "loss_fn = torch.nn.CrossEntropyLoss()"
   ],
   "metadata": {
    "collapsed": false,
    "pycharm": {
     "name": "#%%\n"
    },
    "jupyter": {
     "outputs_hidden": false
    },
    "execution": {
     "iopub.status.busy": "2023-08-11T18:08:00.773941Z",
     "iopub.execute_input": "2023-08-11T18:08:00.775053Z",
     "iopub.status.idle": "2023-08-11T18:08:18.680960Z",
     "shell.execute_reply.started": "2023-08-11T18:08:00.775007Z",
     "shell.execute_reply": "2023-08-11T18:08:18.679740Z"
    },
    "trusted": true
   },
   "execution_count": 6,
   "outputs": [
    {
     "output_type": "display_data",
     "data": {
      "text/plain": "Downloading model.safetensors:   0%|          | 0.00/440M [00:00<?, ?B/s]",
      "application/vnd.jupyter.widget-view+json": {
       "version_major": 2,
       "version_minor": 0,
       "model_id": "59ba48277ff141a09d7a5f8dbe79092d"
      }
     },
     "metadata": {}
    },
    {
     "name": "stderr",
     "text": "Some weights of the model checkpoint at bert-base-uncased were not used when initializing BertForSequenceClassification: ['cls.seq_relationship.bias', 'cls.predictions.transform.LayerNorm.weight', 'cls.predictions.transform.dense.weight', 'cls.predictions.transform.dense.bias', 'cls.seq_relationship.weight', 'cls.predictions.transform.LayerNorm.bias', 'cls.predictions.bias']\n- This IS expected if you are initializing BertForSequenceClassification from the checkpoint of a model trained on another task or with another architecture (e.g. initializing a BertForSequenceClassification model from a BertForPreTraining model).\n- This IS NOT expected if you are initializing BertForSequenceClassification from the checkpoint of a model that you expect to be exactly identical (initializing a BertForSequenceClassification model from a BertForSequenceClassification model).\nSome weights of BertForSequenceClassification were not initialized from the model checkpoint at bert-base-uncased and are newly initialized: ['classifier.weight', 'classifier.bias']\nYou should probably TRAIN this model on a down-stream task to be able to use it for predictions and inference.\n",
     "output_type": "stream"
    }
   ]
  },
  {
   "cell_type": "code",
   "source": [
    "# Set the number of training epochs\n",
    "num_epochs = 4\n",
    "\n",
    "# Initialize a gradient scaler for mixed precision training\n",
    "scaler = GradScaler()\n",
    "\n",
    "# Loop through each epoch\n",
    "for epoch in range(num_epochs):\n",
    "    # Set the model in training mode\n",
    "    model.train()\n",
    "\n",
    "    # Initialize a variable to keep track of the total loss for this epoch\n",
    "    total_loss = 0.0\n",
    "\n",
    "    # Iterate through the training data batches\n",
    "    for batch in dataloader_training:\n",
    "        # Move the batch data to the specified device (CPU or GPU)\n",
    "        input_ids, attention_mask, token_type_ids, labels = [t.to(device) for t in batch]\n",
    "\n",
    "        # Zero the gradients of the model's parameters\n",
    "        optimizer.zero_grad()\n",
    "\n",
    "        # Mixed Precision Training: Enable mixed precision training using torch.cuda.amp. This allows using lower-precision floating-point numbers (float16) for weights and gradients, reducing memory usage.\n",
    "        with autocast():\n",
    "            # Forward pass through the model to compute predictions and the loss\n",
    "            outputs = model(input_ids=input_ids, attention_mask=attention_mask, token_type_ids=token_type_ids, labels=labels)\n",
    "            loss = outputs.loss\n",
    "\n",
    "        # Scale the loss and backpropagate gradients\n",
    "        scaler.scale(loss).backward()\n",
    "        scaler.step(optimizer)\n",
    "        scaler.update()\n",
    "\n",
    "        # Add the loss for this batch to the total loss for the epoch\n",
    "        total_loss += loss.item()\n",
    "\n",
    "    # Calculate the average training loss for this epoch\n",
    "    avg_train_loss = total_loss / len(dataloader_training)\n",
    "\n",
    "    # Print the training loss for this epoch\n",
    "    print(f'Epoch {epoch+1}/{num_epochs} - Average Training Loss: {avg_train_loss:.4f}')"
   ],
   "metadata": {
    "collapsed": false,
    "pycharm": {
     "name": "#%%\n"
    },
    "jupyter": {
     "outputs_hidden": false
    },
    "execution": {
     "iopub.status.busy": "2023-08-11T18:08:28.418561Z",
     "iopub.execute_input": "2023-08-11T18:08:28.418921Z",
     "iopub.status.idle": "2023-08-11T18:11:55.871966Z",
     "shell.execute_reply.started": "2023-08-11T18:08:28.418889Z",
     "shell.execute_reply": "2023-08-11T18:11:55.870772Z"
    },
    "trusted": true
   },
   "execution_count": 7,
   "outputs": [
    {
     "name": "stdout",
     "text": "Epoch 1/4 - Average Training Loss: 4.7606\nEpoch 2/4 - Average Training Loss: 1.2631\nEpoch 3/4 - Average Training Loss: 0.3099\nEpoch 4/4 - Average Training Loss: 0.1256\n",
     "output_type": "stream"
    }
   ]
  },
  {
   "cell_type": "code",
   "source": [
    "# Set the model to evaluation mode\n",
    "model.eval()\n",
    "\n",
    "# Initialize an empty list to store the model's predictions\n",
    "predictions = []\n",
    "\n",
    "# Disable gradient computation during inference\n",
    "with torch.no_grad():\n",
    "    # Iterate through the testing data loader\n",
    "    for batch in dataloader_testing:\n",
    "        # Move the batch data to the specified device (e.g., GPU)\n",
    "        input_ids, attention_mask, token_type_ids = [t.to(device) for t in batch]\n",
    "\n",
    "        # Perform forward pass through the model\n",
    "        outputs = model(input_ids=input_ids, attention_mask=attention_mask, token_type_ids=token_type_ids)\n",
    "        logits = outputs.logits\n",
    "\n",
    "        # Get the predicted labels by selecting the class with the highest probability\n",
    "        _, predicted_labels = torch.max(logits, dim=1)\n",
    "\n",
    "        # Extend the predictions list with the predicted labels converted to CPU numpy array\n",
    "        predictions.extend(predicted_labels.cpu().numpy())\n",
    "\n",
    "# Get the true labels from the testing dataset\n",
    "labels_testing = list(df_imdb_testing['label'])\n",
    "\n",
    "# Calculate accuracy by comparing true labels with predicted labels\n",
    "accuracy_bert = accuracy_score(labels_testing, predictions)\n",
    "\n",
    "# Generate a classification report with precision, recall, and F1-score\n",
    "report_bert = classification_report(labels_testing, predictions)\n",
    "\n",
    "# Print the accuracy and classification report\n",
    "print(accuracy_bert)\n",
    "print(report_bert)\n",
    "\n",
    "# Create a dictionary to store the accuracy and classification report\n",
    "bert_results = {\n",
    "    'accuracy': accuracy_bert, # bert_results['accuracy']\n",
    "    'report': report_bert  # bert_results['report']\n",
    "}\n",
    "\n",
    "# Save the results dictionary to a pickle file\n",
    "# with open('bert_results.pkl', 'wb') as file:\n",
    "#    pickle.dump(bert_results, file)"
   ],
   "metadata": {
    "collapsed": false,
    "pycharm": {
     "name": "#%%\n"
    },
    "jupyter": {
     "outputs_hidden": false
    },
    "execution": {
     "iopub.status.busy": "2023-08-11T18:11:55.875424Z",
     "iopub.execute_input": "2023-08-11T18:11:55.875713Z",
     "iopub.status.idle": "2023-08-11T18:12:12.608017Z",
     "shell.execute_reply.started": "2023-08-11T18:11:55.875687Z",
     "shell.execute_reply": "2023-08-11T18:12:12.606723Z"
    },
    "trusted": true
   },
   "execution_count": 8,
   "outputs": [
    {
     "name": "stdout",
     "text": "0.9968944099378882\n              precision    recall  f1-score   support\n\n           0       1.00      0.99      1.00       483\n           1       0.99      1.00      1.00       483\n\n    accuracy                           1.00       966\n   macro avg       1.00      1.00      1.00       966\nweighted avg       1.00      1.00      1.00       966\n\n",
     "output_type": "stream"
    }
   ]
  },
  {
   "cell_type": "code",
   "source": [
    "# Reload the training and testing data from pickle files to get access to the non-changed data\n",
    "df_imdb_training = pd.read_pickle('imdb_training.pkl')\n",
    "df_imdb_testing = pd.read_pickle('imdb_testing.pkl')\n",
    "\n",
    "# Calculate the word-level sentiment scores for testing data\n",
    "ls_testing_word_level_sentiment, testing_average_word_level_sentiment, testing_std_word_level_sentiment = get_word_level_sentiment(df_imdb_testing, 'review', lexicon_sentiment)\n",
    "\n",
    "# Calculate the accuracy of the word-level sentiment scores in comparison to the actual labels stored in the 'rating' column in the testing dataset\n",
    "accuracy_word_level_sentiment = accuracy(df_imdb_testing, 'rating', ls_testing_word_level_sentiment)\n",
    "\n",
    "# Print the accuracy result\n",
    "print(accuracy_word_level_sentiment)"
   ],
   "metadata": {
    "collapsed": false,
    "pycharm": {
     "name": "#%%\n"
    },
    "jupyter": {
     "outputs_hidden": false
    }
   },
   "execution_count": 70,
   "outputs": [
    {
     "name": "stdout",
     "output_type": "stream",
     "text": [
      "0.736732570239334\n"
     ]
    }
   ]
  },
  {
   "cell_type": "code",
   "source": [
    "# Calculate the enhanced sentiment scores for testing data\n",
    "ls_testing_enhanced_sentiment, testing_average_enhanced_sentiment, testing_std_enhanced_sentiment = get_enhanced_sentiment(df_imdb_testing, 'review')\n",
    "\n",
    "# Calculate the accuracy of the enhanced sentiment scores in comparison to the actual labels stored in the 'rating' column in the testing dataset\n",
    "accuracy_enhanced_sentiment = accuracy( df_imdb_testing, 'rating', ls_testing_enhanced_sentiment)\n",
    "\n",
    "# Print the accuracy result\n",
    "print(accuracy_enhanced_sentiment)"
   ],
   "metadata": {
    "collapsed": false,
    "pycharm": {
     "name": "#%%\n"
    },
    "jupyter": {
     "outputs_hidden": false
    }
   },
   "execution_count": 71,
   "outputs": [
    {
     "name": "stdout",
     "output_type": "stream",
     "text": [
      "0.7520746887966805\n"
     ]
    }
   ]
  },
  {
   "cell_type": "code",
   "source": [
    "# Create a 2D table with headers and accuracy values\n",
    "table = [['Data', 'Lexicon', 'Enhanced lexicon', 'Bert'], ['IMDb', accuracy_word_level_sentiment, accuracy_enhanced_sentiment, accuracy_bert]]\n",
    "\n",
    "# Use the tabulate library to format the table in LaTeX format with headers in the first row\n",
    "str_table = tabulate(table, headers='firstrow', tablefmt='latex')\n",
    "\n",
    "# Define a subtitle for the LaTeX table\n",
    "subtitle = \"Accuracy of different sentiment classifiers for the IMDb dataset.\"\n",
    "\n",
    "# Construct the complete LaTeX table with centering and caption\n",
    "table_latex = f\"\"\"\n",
    "\\\\begin{{table}}[ht]\n",
    "\\\\centering\n",
    "{str_table}\n",
    "\\\\caption{{{subtitle}}}\n",
    "\\\\end{{table}}\n",
    "\"\"\"\n",
    "\n",
    "# Printing the table to access the code for some latex editor\n",
    "print(table_latex)"
   ],
   "metadata": {
    "collapsed": false,
    "pycharm": {
     "name": "#%%\n"
    },
    "jupyter": {
     "outputs_hidden": false
    }
   },
   "execution_count": 74,
   "outputs": [
    {
     "name": "stdout",
     "output_type": "stream",
     "text": [
      "\n",
      "\\begin{table}[ht]\n",
      "\\centering\n",
      "\\begin{tabular}{lrrr}\n",
      "\\hline\n",
      " Data   &   Lexicon &   Enhanced lexicon &     Bert \\\\\n",
      "\\hline\n",
      " IMdB   &  0.736733 &           0.752075 & 0.996894 \\\\\n",
      "\\hline\n",
      "\\end{tabular}\n",
      "\\caption{Accuracy of different sentiment classifiers for the IMdB dataset.}\n",
      "\\end{table}\n",
      "\n"
     ]
    }
   ]
  },
  {
   "cell_type": "markdown",
   "source": [
    "##### Calculate Word-Level Sentiment, Enhanced Word-Level Sentiment, and Absolute Sentiment"
   ],
   "metadata": {
    "pycharm": {
     "name": "#%% md\n"
    }
   }
  },
  {
   "cell_type": "code",
   "source": [
    "# Split sampled IMDb dataframe into multiple dataframes based on yearly and sentiment information\n",
    "df_imdb_split = get_split_dataframes(df_imdb_sampled, 'year', 'rating')"
   ],
   "metadata": {
    "collapsed": false,
    "pycharm": {
     "name": "#%%\n"
    },
    "jupyter": {
     "outputs_hidden": false
    }
   },
   "execution_count": 10,
   "outputs": []
  },
  {
   "cell_type": "code",
   "source": [
    "# Viewing keys indicating the IMDb split dataframes in the dictionary\n",
    "df_imdb_split.keys()"
   ],
   "metadata": {
    "collapsed": false,
    "pycharm": {
     "name": "#%%\n"
    },
    "jupyter": {
     "outputs_hidden": false
    }
   },
   "execution_count": 11,
   "outputs": [
    {
     "data": {
      "text/plain": "dict_keys([(2000, 1.0), (2000, 10.0), (2001, 1.0), (2001, 10.0), (2002, 1.0), (2002, 10.0), (2003, 1.0), (2003, 10.0), (2004, 1.0), (2004, 10.0), (2005, 1.0), (2005, 10.0), (2006, 1.0), (2006, 10.0), (2007, 1.0), (2007, 10.0), (2008, 1.0), (2008, 10.0), (2009, 1.0), (2009, 10.0), (2010, 1.0), (2010, 10.0), (2011, 1.0), (2011, 10.0), (2012, 1.0), (2012, 10.0), (2013, 1.0), (2013, 10.0), (2014, 1.0), (2014, 10.0), (2015, 1.0), (2015, 10.0), (2016, 1.0), (2016, 10.0), (2017, 1.0), (2017, 10.0), (2018, 1.0), (2018, 10.0), (2019, 1.0), (2019, 10.0), (2020, 1.0), (2020, 10.0)])"
     },
     "execution_count": 11,
     "metadata": {},
     "output_type": "execute_result"
    }
   ]
  },
  {
   "cell_type": "code",
   "source": [
    "# Viewing the IMDb dataframe for the year 2000 and a negative review sentiment exemplary\n",
    "df_imdb_split[(2000, 1.0)].head()"
   ],
   "metadata": {
    "collapsed": false,
    "pycharm": {
     "name": "#%%\n"
    },
    "jupyter": {
     "outputs_hidden": false
    }
   },
   "execution_count": 12,
   "outputs": [
    {
     "data": {
      "text/plain": "   review_id       reviewer  rating       date  year  \\\n0  rw0396079     themibjc-2     1.0 2000-08-14  2000   \n1  rw0396559  juan schwartz     1.0 2000-07-14  2000   \n2  rw0396625     indycolt98     1.0 2000-06-11  2000   \n3  rw0396726        atli_is     1.0 2000-07-07  2000   \n4  rw0396727       Angeneer     1.0 2000-10-27  2000   \n\n                                              review  \n0  From the creators of APEX & just as bad... Thi...  \n1  I don't care if Demi Moore was nude dancing be...  \n2  It was absolutely horrible and a waste of my t...  \n3  Boy, it's Friday.  I've been working hard all ...  \n4  Oh man I love this movie. It could make a bett...  ",
      "text/html": "<div>\n<style scoped>\n    .dataframe tbody tr th:only-of-type {\n        vertical-align: middle;\n    }\n\n    .dataframe tbody tr th {\n        vertical-align: top;\n    }\n\n    .dataframe thead th {\n        text-align: right;\n    }\n</style>\n<table border=\"1\" class=\"dataframe\">\n  <thead>\n    <tr style=\"text-align: right;\">\n      <th></th>\n      <th>review_id</th>\n      <th>reviewer</th>\n      <th>rating</th>\n      <th>date</th>\n      <th>year</th>\n      <th>review</th>\n    </tr>\n  </thead>\n  <tbody>\n    <tr>\n      <th>0</th>\n      <td>rw0396079</td>\n      <td>themibjc-2</td>\n      <td>1.0</td>\n      <td>2000-08-14</td>\n      <td>2000</td>\n      <td>From the creators of APEX &amp; just as bad... Thi...</td>\n    </tr>\n    <tr>\n      <th>1</th>\n      <td>rw0396559</td>\n      <td>juan schwartz</td>\n      <td>1.0</td>\n      <td>2000-07-14</td>\n      <td>2000</td>\n      <td>I don't care if Demi Moore was nude dancing be...</td>\n    </tr>\n    <tr>\n      <th>2</th>\n      <td>rw0396625</td>\n      <td>indycolt98</td>\n      <td>1.0</td>\n      <td>2000-06-11</td>\n      <td>2000</td>\n      <td>It was absolutely horrible and a waste of my t...</td>\n    </tr>\n    <tr>\n      <th>3</th>\n      <td>rw0396726</td>\n      <td>atli_is</td>\n      <td>1.0</td>\n      <td>2000-07-07</td>\n      <td>2000</td>\n      <td>Boy, it's Friday.  I've been working hard all ...</td>\n    </tr>\n    <tr>\n      <th>4</th>\n      <td>rw0396727</td>\n      <td>Angeneer</td>\n      <td>1.0</td>\n      <td>2000-10-27</td>\n      <td>2000</td>\n      <td>Oh man I love this movie. It could make a bett...</td>\n    </tr>\n  </tbody>\n</table>\n</div>"
     },
     "execution_count": 12,
     "metadata": {},
     "output_type": "execute_result"
    }
   ]
  },
  {
   "cell_type": "code",
   "source": [
    "# Split sampled Yelp dataframe into multiple dataframes based on yearly and sentiment information\n",
    "df_yelp_split = get_split_dataframes(df_yelp_sampled, 'year', 'stars')"
   ],
   "metadata": {
    "collapsed": false,
    "pycharm": {
     "name": "#%%\n"
    },
    "jupyter": {
     "outputs_hidden": false
    }
   },
   "execution_count": 13,
   "outputs": []
  },
  {
   "cell_type": "code",
   "source": [
    "# Viewing keys indicating the Yelp split dataframes in the dictionary\n",
    "df_yelp_split.keys()"
   ],
   "metadata": {
    "collapsed": false,
    "pycharm": {
     "name": "#%%\n"
    },
    "jupyter": {
     "outputs_hidden": false
    }
   },
   "execution_count": 14,
   "outputs": [
    {
     "data": {
      "text/plain": "dict_keys([(2005, 1.0), (2005, 5.0), (2006, 1.0), (2006, 5.0), (2007, 1.0), (2007, 5.0), (2008, 1.0), (2008, 5.0), (2009, 1.0), (2009, 5.0), (2010, 1.0), (2010, 5.0), (2011, 1.0), (2011, 5.0), (2012, 1.0), (2012, 5.0), (2013, 1.0), (2013, 5.0), (2014, 1.0), (2014, 5.0), (2015, 1.0), (2015, 5.0), (2016, 1.0), (2016, 5.0), (2017, 1.0), (2017, 5.0), (2018, 1.0), (2018, 5.0), (2019, 1.0), (2019, 5.0), (2020, 1.0), (2020, 5.0), (2021, 1.0), (2021, 5.0), (2022, 1.0), (2022, 5.0)])"
     },
     "execution_count": 14,
     "metadata": {},
     "output_type": "execute_result"
    }
   ]
  },
  {
   "cell_type": "code",
   "source": [
    "# Viewing the Yelp dataframe for the year 2005 and a negative review sentiment exemplary\n",
    "df_yelp_split[(2005, 1.0)].head()"
   ],
   "metadata": {
    "collapsed": false,
    "pycharm": {
     "name": "#%%\n"
    },
    "jupyter": {
     "outputs_hidden": false
    }
   },
   "execution_count": 15,
   "outputs": [
    {
     "data": {
      "text/plain": "                review_id                reviewer  stars  \\\n0  jPwRemJ3wjd0wlGvkT5FuQ  n-lBS02-3yvlY5Q91mmwDA    1.0   \n1  Uc1C5BBmYOw6ZyaDm2MMbw  3MYdpmHeNwC6FquRWi3YOg    1.0   \n2  zAjW-oMbnu_oUzrE-ShkZw  -qoyKSF2G3PkR_7XNoJfpQ    1.0   \n3  iutNRAi9-2BVVIK7nXMmTw  n-lBS02-3yvlY5Q91mmwDA    1.0   \n4  -gNMjKldHiIK-G2704i9ew  PO-U11FmTDiqCEqtilFjVQ    1.0   \n\n                                              review                date  year  \n0  The blue version of Razoo, this is a bunch of ... 2005-07-10 23:02:24  2005  \n1  I once went to this Gavi and it was fine.  Sec... 2005-04-03 05:14:30  2005  \n2  Bad bar food.  Uninteresting menu.  Very slow ... 2005-05-27 19:37:03  2005  \n3  eww.. Starbucks.  If you have any taste, you w... 2005-07-10 05:27:29  2005  \n4  So, this guy (these guys?) did the last piece ... 2005-09-02 18:12:52  2005  ",
      "text/html": "<div>\n<style scoped>\n    .dataframe tbody tr th:only-of-type {\n        vertical-align: middle;\n    }\n\n    .dataframe tbody tr th {\n        vertical-align: top;\n    }\n\n    .dataframe thead th {\n        text-align: right;\n    }\n</style>\n<table border=\"1\" class=\"dataframe\">\n  <thead>\n    <tr style=\"text-align: right;\">\n      <th></th>\n      <th>review_id</th>\n      <th>reviewer</th>\n      <th>stars</th>\n      <th>review</th>\n      <th>date</th>\n      <th>year</th>\n    </tr>\n  </thead>\n  <tbody>\n    <tr>\n      <th>0</th>\n      <td>jPwRemJ3wjd0wlGvkT5FuQ</td>\n      <td>n-lBS02-3yvlY5Q91mmwDA</td>\n      <td>1.0</td>\n      <td>The blue version of Razoo, this is a bunch of ...</td>\n      <td>2005-07-10 23:02:24</td>\n      <td>2005</td>\n    </tr>\n    <tr>\n      <th>1</th>\n      <td>Uc1C5BBmYOw6ZyaDm2MMbw</td>\n      <td>3MYdpmHeNwC6FquRWi3YOg</td>\n      <td>1.0</td>\n      <td>I once went to this Gavi and it was fine.  Sec...</td>\n      <td>2005-04-03 05:14:30</td>\n      <td>2005</td>\n    </tr>\n    <tr>\n      <th>2</th>\n      <td>zAjW-oMbnu_oUzrE-ShkZw</td>\n      <td>-qoyKSF2G3PkR_7XNoJfpQ</td>\n      <td>1.0</td>\n      <td>Bad bar food.  Uninteresting menu.  Very slow ...</td>\n      <td>2005-05-27 19:37:03</td>\n      <td>2005</td>\n    </tr>\n    <tr>\n      <th>3</th>\n      <td>iutNRAi9-2BVVIK7nXMmTw</td>\n      <td>n-lBS02-3yvlY5Q91mmwDA</td>\n      <td>1.0</td>\n      <td>eww.. Starbucks.  If you have any taste, you w...</td>\n      <td>2005-07-10 05:27:29</td>\n      <td>2005</td>\n    </tr>\n    <tr>\n      <th>4</th>\n      <td>-gNMjKldHiIK-G2704i9ew</td>\n      <td>PO-U11FmTDiqCEqtilFjVQ</td>\n      <td>1.0</td>\n      <td>So, this guy (these guys?) did the last piece ...</td>\n      <td>2005-09-02 18:12:52</td>\n      <td>2005</td>\n    </tr>\n  </tbody>\n</table>\n</div>"
     },
     "execution_count": 15,
     "metadata": {},
     "output_type": "execute_result"
    }
   ]
  },
  {
   "cell_type": "markdown",
   "source": [
    "###### Sentiment Metrics"
   ],
   "metadata": {
    "pycharm": {
     "name": "#%% md\n"
    }
   }
  },
  {
   "cell_type": "code",
   "source": [
    "# Initialize empty lists to store IMDb data, especially the word-level sentiment data\n",
    "ls_imdb_time = []\n",
    "ls_imdb_rating = []\n",
    "\n",
    "ls_imdb_average_word_level_sentiment = []\n",
    "ls_imdb_std_word_level_sentiment = []\n",
    "\n",
    "# Iterate through key-value pairs in the 'df_imdb_split' dictionary\n",
    "for key, split in df_imdb_split.items():\n",
    "    # Extract 'time' and 'rating' values from the key\n",
    "    time, rating = key\n",
    "\n",
    "    # Calculate word-level sentiment metrics for the current data split\n",
    "    ls_word_level_sentiment, average_word_level_sentiment, std_word_level_sentiment = get_word_level_sentiment(split, 'review', lexicon_sentiment)\n",
    "\n",
    "    # Append values to respective lists\n",
    "    ls_imdb_time.append(time)\n",
    "    ls_imdb_rating.append(rating)\n",
    "    ls_imdb_average_word_level_sentiment.append(average_word_level_sentiment)\n",
    "    ls_imdb_std_word_level_sentiment.append(std_word_level_sentiment)\n",
    "\n",
    "# Create a new DataFrame to store the IMDb results\n",
    "df_imdb_results = pd.DataFrame()\n",
    "\n",
    "# Populate the dataframe with the collected data\n",
    "df_imdb_results['time'] = ls_imdb_time\n",
    "df_imdb_results['rating'] = ls_imdb_rating\n",
    "df_imdb_results['average word level sentiment'] = ls_imdb_average_word_level_sentiment\n",
    "df_imdb_results['std word level sentiment'] = ls_imdb_std_word_level_sentiment\n",
    "\n",
    "# Save the dataframe to a pickle file\n",
    "#df_imdb_results.to_pickle('imdb_results.pkl')"
   ],
   "metadata": {
    "collapsed": false,
    "pycharm": {
     "name": "#%%\n"
    },
    "jupyter": {
     "outputs_hidden": false
    }
   },
   "execution_count": 21,
   "outputs": []
  },
  {
   "cell_type": "code",
   "source": [
    "# Initialize empty lists to store Yelp data, especially the word-level sentiment data\n",
    "ls_yelp_time = []\n",
    "ls_yelp_stars = []\n",
    "\n",
    "ls_yelp_average_word_level_sentiment = []\n",
    "ls_yelp_std_word_level_sentiment = []\n",
    "\n",
    "# Iterate through key-value pairs in the 'df_yelp_split' dictionary\n",
    "for key, split in df_yelp_split.items():\n",
    "    # Extract 'time' and 'stars' values from the key\n",
    "    time, stars = key\n",
    "\n",
    "    # Calculate word-level sentiment metrics for the current data split\n",
    "    ls_word_level_sentiment, average_word_level_sentiment, std_word_level_sentiment = get_word_level_sentiment(split, 'review', lexicon_sentiment)\n",
    "\n",
    "    # Append values to respective lists\n",
    "    ls_yelp_time.append(time)\n",
    "    ls_yelp_stars.append(stars)\n",
    "    ls_yelp_average_word_level_sentiment.append(average_word_level_sentiment)\n",
    "    ls_yelp_std_word_level_sentiment.append(std_word_level_sentiment)\n",
    "\n",
    "# Create a new datframe to store the Yelp results\n",
    "df_yelp_results = pd.DataFrame()\n",
    "\n",
    "# Populate the dataframe  with the collected data\n",
    "df_yelp_results['time'] = ls_yelp_time\n",
    "df_yelp_results['stars'] = ls_yelp_stars\n",
    "df_yelp_results['average word level sentiment'] = ls_yelp_average_word_level_sentiment\n",
    "df_yelp_results['std word level sentiment'] = ls_yelp_std_word_level_sentiment\n",
    "\n",
    "# Save the dataframe to a pickle file\n",
    "#df_yelp_results.to_pickle('yelp_results.pkl')"
   ],
   "metadata": {
    "collapsed": false,
    "pycharm": {
     "name": "#%%\n"
    },
    "jupyter": {
     "outputs_hidden": false
    }
   },
   "execution_count": 15,
   "outputs": []
  },
  {
   "cell_type": "code",
   "source": [
    "# Generate side by side plots for reviews with positive and negative sentiment for time series of the word-level sentiment metric for the IMDb and Yelp data\n",
    "get_senti_graph(df_imdb_results, df_yelp_results, 'time', 'rating', 'stars', 'average word level sentiment', 'Word Level Sentiment')"
   ],
   "metadata": {
    "collapsed": false,
    "pycharm": {
     "name": "#%%\n"
    },
    "jupyter": {
     "outputs_hidden": false
    }
   },
   "execution_count": 31,
   "outputs": [
    {
     "data": {
      "text/plain": "<Figure size 1200x600 with 2 Axes>",
      "image/png": "[encoded data removed]"
     },
     "metadata": {},
     "output_type": "display_data"
    }
   ]
  },
  {
   "cell_type": "code",
   "source": [
    "# Initialize empty lists to store IMDb enhanced sentiment data\n",
    "ls_imdb_average_enhanced_sentiment = []\n",
    "ls_imdb_std_enhanced_sentiment = []\n",
    "\n",
    "# Iterate through key-value pairs in the 'df_imdb_split' dictionary\n",
    "for key, split in df_imdb_split.items():\n",
    "    # Calculate enhanced sentiment metrics for the current data split\n",
    "    ls_enhanced_sentiment, average_enhanced_sentiment, std_enhanced_sentiment = get_enhanced_sentiment(split, 'review')\n",
    "\n",
    "    # Append values to respective lists\n",
    "    ls_imdb_average_enhanced_sentiment.append(average_enhanced_sentiment)\n",
    "    ls_imdb_std_enhanced_sentiment.append(std_enhanced_sentiment)\n",
    "\n",
    "# Add columns for average and standard deviation of enhanced sentiment to the 'df_imdb_results' dataframe\n",
    "df_imdb_results['average enhanced sentiment'] = ls_imdb_average_enhanced_sentiment\n",
    "df_imdb_results['std enhanced sentiment'] = ls_imdb_std_enhanced_sentiment\n",
    "\n",
    "# Save the updated dataframe to a pickle file\n",
    "#df_imdb_results.to_pickle('imdb_results.pkl')"
   ],
   "metadata": {
    "collapsed": false,
    "pycharm": {
     "name": "#%%\n"
    },
    "jupyter": {
     "outputs_hidden": false
    }
   },
   "execution_count": 26,
   "outputs": []
  },
  {
   "cell_type": "code",
   "source": [
    "# Initialize empty lists to store Yelp enhanced sentiment data\n",
    "ls_yelp_average_enhanced_sentiment = []\n",
    "ls_yelp_std_enhanced_sentiment = []\n",
    "\n",
    "# Iterate through key-value pairs in the 'df_yelp_split' dictionary\n",
    "for key, split in df_yelp_split.items():\n",
    "    # Calculate enhanced sentiment metrics for the current data split\n",
    "    ls_enhanced_sentiment, average_enhanced_sentiment, std_enhanced_sentiment = get_enhanced_sentiment(split, 'review')\n",
    "\n",
    "    # Append values to respective lists\n",
    "    ls_yelp_average_enhanced_sentiment.append(average_enhanced_sentiment)\n",
    "    ls_yelp_std_enhanced_sentiment.append(std_enhanced_sentiment)\n",
    "\n",
    "# Add columns for average and standard deviation of enhanced sentiment to the 'df_yelp_results' dataframe\n",
    "df_yelp_results['average enhanced sentiment'] = ls_yelp_average_enhanced_sentiment\n",
    "df_yelp_results['std enhanced sentiment'] = ls_yelp_std_enhanced_sentiment\n",
    "\n",
    "# Save the updated dataframe to a pickle file\n",
    "#df_yelp_results.to_pickle('yelp_results.pkl')"
   ],
   "metadata": {
    "collapsed": false,
    "pycharm": {
     "name": "#%%\n"
    },
    "jupyter": {
     "outputs_hidden": false
    }
   },
   "execution_count": 23,
   "outputs": []
  },
  {
   "cell_type": "code",
   "source": [
    "# Generate side by side plots for reviews with positive and negative sentiment for time series of the enhanced sentiment metric for the IMDb and Yelp data\n",
    "get_senti_graph(df_imdb_results, df_yelp_results, 'time', 'rating', 'stars', 'average enhanced sentiment', 'Enhanced Sentiment')"
   ],
   "metadata": {
    "collapsed": false,
    "pycharm": {
     "name": "#%%\n"
    },
    "jupyter": {
     "outputs_hidden": false
    }
   },
   "execution_count": 64,
   "outputs": [
    {
     "data": {
      "text/plain": "<Figure size 1200x600 with 2 Axes>",
      "image/png": "[encoded data removed]"
     },
     "metadata": {},
     "output_type": "display_data"
    }
   ]
  },
  {
   "cell_type": "code",
   "source": [
    "# Initialize empty lists to store IMDb absolute sentiment data\n",
    "ls_imdb_average_abs_sentiment = []\n",
    "ls_imdb_std_abs_sentiment = []\n",
    "\n",
    "# Iterate through key-value pairs in the 'df_imdb_split' dictionary\n",
    "for key, split in df_imdb_split.items():\n",
    "    # Calculate absolute sentiment metrics for the current data split\n",
    "    ls_abs_sentiment, average_abs_sentiment, std_abs_sentiment = get_word_level_sentiment(split, 'review', lexicon_abs_sentiment)\n",
    "\n",
    "    # Append values to respective lists\n",
    "    ls_imdb_average_abs_sentiment.append(average_abs_sentiment)\n",
    "    ls_imdb_std_abs_sentiment.append(std_abs_sentiment)\n",
    "\n",
    "# Add columns for average and standard deviation of absolute sentiment to the 'df_imdb_results' dataframe\n",
    "df_imdb_results['average abs sentiment'] = ls_imdb_average_abs_sentiment\n",
    "df_imdb_results['std abs sentiment'] = ls_imdb_std_abs_sentiment\n",
    "\n",
    "# Save the updated datframe to a pickle file\n",
    "#df_imdb_results.to_pickle('imdb_results.pkl')"
   ],
   "metadata": {
    "collapsed": false,
    "pycharm": {
     "name": "#%%\n"
    },
    "jupyter": {
     "outputs_hidden": false
    }
   },
   "execution_count": 28,
   "outputs": []
  },
  {
   "cell_type": "code",
   "source": [
    "# Initialize empty lists to store Yelp absolute sentiment data\n",
    "ls_yelp_average_abs_sentiment = []\n",
    "ls_yelp_std_abs_sentiment = []\n",
    "\n",
    "# Iterate through key-value pairs in the 'df_yelp_split' dictionary\n",
    "for key, split in df_yelp_split.items():\n",
    "    # Calculate absolute sentiment metrics for the current data split\n",
    "    ls_abs_sentiment, average_abs_sentiment, std_abs_sentiment = get_word_level_sentiment(split, 'review', lexicon_abs_sentiment)\n",
    "\n",
    "    # Append values to respective lists\n",
    "    ls_yelp_average_abs_sentiment.append(average_abs_sentiment)\n",
    "    ls_yelp_std_abs_sentiment.append(std_abs_sentiment)\n",
    "\n",
    "# Add columns for average and standard deviation of absolute sentiment to the 'df_yelp_results' dataframe\n",
    "df_yelp_results['average abs sentiment'] = ls_yelp_average_abs_sentiment\n",
    "df_yelp_results['std abs sentiment'] = ls_yelp_std_abs_sentiment\n",
    "\n",
    "# Save the updated dataframe to a pickle file\n",
    "#df_yelp_results.to_pickle('yelp_results.pkl')"
   ],
   "metadata": {
    "collapsed": false,
    "pycharm": {
     "name": "#%%\n"
    },
    "jupyter": {
     "outputs_hidden": false
    }
   },
   "execution_count": 25,
   "outputs": []
  },
  {
   "cell_type": "code",
   "source": [
    "# Generate side by side plots for reviews with positive and negative sentiment for time series of the absolute sentiment metric for the IMDb and Yelp data\n",
    "get_senti_graph(df_imdb_results, df_yelp_results, 'time', 'rating', 'stars', 'average abs sentiment', 'Absolute Sentiment Intensity')"
   ],
   "metadata": {
    "collapsed": false,
    "pycharm": {
     "name": "#%%\n"
    },
    "jupyter": {
     "outputs_hidden": false
    }
   },
   "execution_count": 65,
   "outputs": [
    {
     "data": {
      "text/plain": "<Figure size 1200x600 with 2 Axes>",
      "image/png": "[encoded data removed]"
     },
     "metadata": {},
     "output_type": "display_data"
    }
   ]
  },
  {
   "cell_type": "markdown",
   "source": [
    "###### Language Diversity and Comprehensiveness Metrics"
   ],
   "metadata": {
    "pycharm": {
     "name": "#%% md\n"
    }
   }
  },
  {
   "cell_type": "code",
   "source": [
    "# Initialize empty lists to store IMDb lexical diversity data and dictionaries to visualize Zipf's law\n",
    "ls_imdb_lexical_diversity = []\n",
    "ls_zipf = []\n",
    "\n",
    "# Iterate through key-value pairs in the 'df_imdb_split' dictionary\n",
    "for key, split in df_imdb_split.items():\n",
    "    # Calculate lexical diversity and get dictionary of frequent words for the current data split\n",
    "    lexical_diversity, dic_zipf = get_lexical_diversity(split, 'review', lexicon_sentiment)\n",
    "\n",
    "    # Append values to respective lists\n",
    "    ls_imdb_lexical_diversity.append(lexical_diversity)\n",
    "    ls_zipf.append(dic_zipf)\n",
    "\n",
    "# Add a column for lexical diversity to the 'df_imdb_results' dataframe\n",
    "df_imdb_results['lexical diversity'] = ls_imdb_lexical_diversity\n",
    "\n",
    "# Save the updated dataframe to a pickle file\n",
    "#df_imdb_results.to_pickle('imdb_results.pkl')"
   ],
   "metadata": {
    "collapsed": false,
    "pycharm": {
     "name": "#%%\n"
    },
    "jupyter": {
     "outputs_hidden": false
    }
   },
   "execution_count": 15,
   "outputs": []
  },
  {
   "cell_type": "code",
   "source": [
    "# Initialize an empty list to store Yelp lexical diversity data\n",
    "ls_yelp_lexical_diversity = []\n",
    "\n",
    "# Iterate through key-value pairs in the 'df_yelp_split' dictionary\n",
    "for key, split in df_yelp_split.items():\n",
    "    # Calculate lexical diversity for the current data split\n",
    "    lexical_diversity, dic_zipf = get_lexical_diversity(split, 'review', lexicon_sentiment)\n",
    "\n",
    "    # Append lexical diversity values to the list\n",
    "    ls_yelp_lexical_diversity.append(lexical_diversity)\n",
    "\n",
    "# Add a column for lexical diversity to the 'df_yelp_results' dataframe\n",
    "df_yelp_results['lexical diversity'] = ls_yelp_lexical_diversity\n",
    "\n",
    "# Save the updated DataFrame to a pickle file\n",
    "#df_yelp_results.to_pickle('yelp_results.pkl')"
   ],
   "metadata": {
    "collapsed": false,
    "pycharm": {
     "name": "#%%\n"
    },
    "jupyter": {
     "outputs_hidden": false
    }
   },
   "execution_count": 28,
   "outputs": []
  },
  {
   "cell_type": "code",
   "execution_count": 66,
   "outputs": [
    {
     "data": {
      "text/plain": "Text(0, 0.5, 'Frequency')"
     },
     "execution_count": 66,
     "metadata": {},
     "output_type": "execute_result"
    },
    {
     "data": {
      "text/plain": "<Figure size 640x480 with 1 Axes>",
      "image/png": "[encoded data removed]"
     },
     "metadata": {},
     "output_type": "display_data"
    }
   ],
   "source": [
    "# Example visualization of Zipfian distribution for analysis\n",
    "# Extract frequency and rank data from a specific dictionary, e.g. negative sentiment in 2002\n",
    "frequency_negative_2002 = list(ls_zipf[41].values())\n",
    "rank_negative_2002 = list(range(len(frequency_negative_2002)))\n",
    "\n",
    "# Plot the Zipfian distribution, means plot frequency against rank\n",
    "plt.plot(rank_negative_2002, frequency_negative_2002, color='green')\n",
    "\n",
    "# Rotate x-axis labels for better readability and add labels\n",
    "plt.xticks(rotation=45)\n",
    "plt.xlabel('Rank')\n",
    "plt.ylabel('Frequency')"
   ],
   "metadata": {
    "collapsed": false,
    "pycharm": {
     "name": "#%%\n"
    }
   }
  },
  {
   "cell_type": "code",
   "source": [
    "# Generate side by side plots for reviews with positive and negative sentiment for time series of the lexical diversity metric for the IMDb and Yelp data\n",
    "get_senti_graph(df_imdb_results, df_yelp_results, 'time', 'rating', 'stars', 'lexical diversity', '% of Frequent Sentiment Words Use')"
   ],
   "metadata": {
    "collapsed": false,
    "pycharm": {
     "name": "#%%\n"
    },
    "jupyter": {
     "outputs_hidden": false
    }
   },
   "execution_count": 67,
   "outputs": [
    {
     "data": {
      "text/plain": "<Figure size 1200x600 with 2 Axes>",
      "image/png": "[encoded data removed]"
     },
     "metadata": {},
     "output_type": "display_data"
    }
   ]
  },
  {
   "cell_type": "code",
   "source": [
    "# Initialize empty lists to store IMDb informativeness data\n",
    "ls_imdb_average_informativeness = []\n",
    "ls_imdb_std_informativeness = []\n",
    "\n",
    "# Iterate through key-value pairs in the 'df_imdb_split' dictionary\n",
    "for key, split in df_imdb_split.items():\n",
    "    # Calculate informativeness metrics for the current data split\n",
    "    average_informativeness, std_informativeness = get_informativeness(split, 'review')\n",
    "\n",
    "    # Append values to respective lists\n",
    "    ls_imdb_average_informativeness.append(average_informativeness)\n",
    "    ls_imdb_std_informativeness.append(std_informativeness)\n",
    "\n",
    "# Add columns for average and standard deviation of informativeness to the 'df_imdb_results' dataframe\n",
    "df_imdb_results['average informativeness'] = ls_imdb_average_informativeness\n",
    "df_imdb_results['std informativeness'] = ls_imdb_std_informativeness\n",
    "\n",
    "# Save the updated dataframe to a pickle file\n",
    "#df_imdb_results.to_pickle('imdb_results.pkl')"
   ],
   "metadata": {
    "collapsed": false,
    "pycharm": {
     "name": "#%%\n"
    },
    "jupyter": {
     "outputs_hidden": false
    }
   },
   "execution_count": 32,
   "outputs": []
  },
  {
   "cell_type": "code",
   "source": [
    "# Initialize empty lists to store Yelp informativeness data\n",
    "ls_yelp_average_informativeness = []\n",
    "ls_yelp_std_informativeness = []\n",
    "\n",
    "# Iterate through key-value pairs in the 'df_yelp_split' dictionary\n",
    "for key, split in df_yelp_split.items():\n",
    "    # Calculate informativeness metrics for the current data split\n",
    "    average_informativeness, std_informativeness = get_informativeness(split, 'review')\n",
    "\n",
    "    # Append values to respective lists\n",
    "    ls_yelp_average_informativeness.append(average_informativeness)\n",
    "    ls_yelp_std_informativeness.append(std_informativeness)\n",
    "\n",
    "# Add columns for average and standard deviation of informativeness to the 'df_yelp_results' dataframe\n",
    "df_yelp_results['average informativeness'] = ls_yelp_average_informativeness\n",
    "df_yelp_results['std informativeness'] = ls_yelp_std_informativeness\n",
    "\n",
    "# Save the updated dataframe to a pickle file\n",
    "#df_yelp_results.to_pickle('yelp_results.pkl')"
   ],
   "metadata": {
    "collapsed": false,
    "pycharm": {
     "name": "#%%\n"
    },
    "jupyter": {
     "outputs_hidden": false
    }
   },
   "execution_count": 30,
   "outputs": []
  },
  {
   "cell_type": "code",
   "source": [
    "# Generate side by side plots for reviews with positive and negative sentiment for time series of the informativeness metric for the IMDb and Yelp data\n",
    "get_senti_graph(df_imdb_results, df_yelp_results, 'time', 'rating', 'stars', 'average informativeness', '#Words')"
   ],
   "metadata": {
    "collapsed": false,
    "pycharm": {
     "name": "#%%\n"
    },
    "jupyter": {
     "outputs_hidden": false
    }
   },
   "execution_count": 68,
   "outputs": [
    {
     "data": {
      "text/plain": "<Figure size 1200x600 with 2 Axes>",
      "image/png": "[encoded data removed]"
     },
     "metadata": {},
     "output_type": "display_data"
    }
   ]
  },
  {
   "cell_type": "code",
   "source": [
    "# Initialize an empty list to store IMDb dichotomy data\n",
    "ls_imdb_dichotomy = []  # List to store dichotomy values\n",
    "\n",
    "# Iterate through key-value pairs in the 'df_imdb_split' dictionary\n",
    "for key, split in df_imdb_split.items():\n",
    "    # Calculate the dichotomy metric for the current data split\n",
    "    dichotomy = get_dichotomy(split, 'review', 'rating', 1.0)\n",
    "\n",
    "    # Append the dichotomy value to the list\n",
    "    ls_imdb_dichotomy.append(dichotomy)\n",
    "\n",
    "# Add a column for the dichotomy metric to the 'df_imdb_results' dataframe\n",
    "df_imdb_results['dichotomy'] = ls_imdb_dichotomy\n",
    "\n",
    "# Save the updated DataFrame to a pickle file\n",
    "#df_imdb_results.to_pickle('imdb_results.pkl')"
   ],
   "metadata": {
    "collapsed": false,
    "pycharm": {
     "name": "#%%\n"
    },
    "jupyter": {
     "outputs_hidden": false
    }
   },
   "execution_count": 28,
   "outputs": []
  },
  {
   "cell_type": "code",
   "source": [
    "# Initialize an empty list to store Yelp dichotomy data\n",
    "ls_yelp_dichotomy = []  # List to store dichotomy values\n",
    "\n",
    "# Iterate through key-value pairs in the 'df_yelp_split' dictionary\n",
    "for key, split in df_yelp_split.items():\n",
    "    # Calculate the dichotomy metric for the current data split\n",
    "    dichotomy = get_dichotomy(split, 'review', 'stars', 1.0)\n",
    "\n",
    "    # Append the dichotomy value to the list\n",
    "    ls_yelp_dichotomy.append(dichotomy)\n",
    "\n",
    "# Add a column for the dichotomy metric to the 'df_yelp_results' dataframe\n",
    "df_yelp_results['dichotomy'] = ls_yelp_dichotomy\n",
    "\n",
    "# Save the updated DataFrame to a pickle file\n",
    "#df_yelp_results.to_pickle('yelp_results.pkl')"
   ],
   "metadata": {
    "collapsed": false,
    "pycharm": {
     "name": "#%%\n"
    },
    "jupyter": {
     "outputs_hidden": false
    }
   },
   "execution_count": 29,
   "outputs": []
  },
  {
   "cell_type": "code",
   "source": [
    "# Generate side by side plots for reviews with positive and negative sentiment for time series of the dichotomy aka review one-sidedness metric for the IMDb and Yelp data\n",
    "get_senti_graph(df_imdb_results, df_yelp_results, 'time', 'rating', 'stars', 'dichotomy', '% of Dichotomous Reviews')"
   ],
   "metadata": {
    "collapsed": false,
    "pycharm": {
     "name": "#%%\n"
    },
    "jupyter": {
     "outputs_hidden": false
    }
   },
   "execution_count": 32,
   "outputs": [
    {
     "data": {
      "text/plain": "<Figure size 1200x600 with 2 Axes>",
      "image/png": "[encoded data removed]"
     },
     "metadata": {},
     "output_type": "display_data"
    }
   ]
  },
  {
   "cell_type": "markdown",
   "source": [
    "###### Intense Reviews"
   ],
   "metadata": {
    "pycharm": {
     "name": "#%% md\n"
    }
   }
  },
  {
   "cell_type": "code",
   "source": [
    "# Initialize an empty list to store for the IMDb data intense reviews\n",
    "ls_imdb_nested_3_intense_reviews = []\n",
    "\n",
    "# Iterate through key-value pairs in the 'df_imdb_split' dictionary\n",
    "for key, split in df_imdb_split.items():\n",
    "    time, rating = key\n",
    "\n",
    "    # Determine if the rating is minimum (1.0) to identify if we have a sample of reviews with negative sentiment, hence intense terms are sentiment words with a score smaller -3\n",
    "    min = rating == 1.0\n",
    "\n",
    "    # Calculate and collect list of 3 intense reviews for the current data split\n",
    "    ls_3_intense_reviews = get_n_intense_reviews(split, 3, 'review', min, lexicon_sentiment)\n",
    "\n",
    "    # Append the nested list to the main list\n",
    "    ls_imdb_nested_3_intense_reviews.append(ls_3_intense_reviews)\n",
    "\n",
    "# Save the collected data to a pickle file\n",
    "#with open(\"imdb_3_intense_reviews.pkl\", \"wb\") as file:\n",
    "#    pickle.dump(ls_imdb_nested_3_intense_reviews, file)"
   ],
   "metadata": {
    "collapsed": false,
    "pycharm": {
     "name": "#%%\n"
    },
    "jupyter": {
     "outputs_hidden": false
    }
   },
   "execution_count": 76,
   "outputs": []
  },
  {
   "cell_type": "code",
   "execution_count": 35,
   "outputs": [
    {
     "name": "stdout",
     "output_type": "stream",
     "text": [
      "\n",
      "\\begin{table}[ht]\n",
      "\\centering\n",
      "\\begin{tabular}{c|c|p{6cm}}\n",
      "\\hline\n",
      "Year & Sent & Review \\\\\n",
      "\\hline\n",
      "2000 & neg & One of the worst ever. But it was a good laugh. I would recommend seeing this if you were drunk on something, or if you are a masochist. Real bad. \\\\2000 & pos & Great story and great action! Needless to say anything beyond this!! \\\\2020 & neg & Not good story is worst acting is worst. \\\\2020 & pos & The best. \\\\\\hline\\end{tabular}\n",
      "\\caption{A selection of IMDb reviews with year, sentiment, and review content.}\n",
      "\\end{table}\n"
     ]
    }
   ],
   "source": [
    "# Select data of interest in creating a latex-style table\n",
    "data = [\n",
    "    (df_imdb_results.iloc[0, 0], df_imdb_results.iloc[0, 1], ls_imdb_nested_3_intense_reviews[0][0]),\n",
    "    (df_imdb_results.iloc[1, 0], df_imdb_results.iloc[1, 1], ls_imdb_nested_3_intense_reviews[1][0]),\n",
    "    (df_imdb_results.iloc[-2, 0], df_imdb_results.iloc[-2, 1], ls_imdb_nested_3_intense_reviews[-2][0]),\n",
    "    (df_imdb_results.iloc[-1, 0], df_imdb_results.iloc[-1, 1], ls_imdb_nested_3_intense_reviews[-1][0]),\n",
    "]\n",
    "\n",
    "# Convert data into a list of lists for creating a table\n",
    "table = []\n",
    "for year, sent, review in data:\n",
    "    sent_label = 'neg' if sent == 1.0 else 'pos'\n",
    "    table.append([year, sent_label, review])\n",
    "\n",
    "# Add a header row for the table\n",
    "headers = ['Year', 'Sent', 'Review']\n",
    "table.insert(0, headers)\n",
    "\n",
    "# Define a subtitle for the table\n",
    "subtitle = \"A selection of IMDb reviews with year, sentiment, and review content.\"\n",
    "\n",
    "# Construct the complete LaTeX table code with title, subtitle, and column headers\n",
    "table_latex = f\"\"\"\n",
    "\\\\begin{{table}}[ht]\n",
    "\\\\centering\n",
    "\\\\begin{{tabular}}{{c|c|p{{6cm}}}}\n",
    "\\\\hline\n",
    "{headers[0]} & {headers[1]} & {headers[2]} \\\\\\\\\n",
    "\\\\hline\n",
    "\"\"\"\n",
    "\n",
    "# Add data rows to the LaTeX table code\n",
    "for row in table[1:]:\n",
    "    table_latex += f\"{row[0]} & {row[1]} & {row[2]} \\\\\\\\\"\n",
    "table_latex += f\"\\\\hline\\\\end{{tabular}}\\n\\\\caption{{{subtitle}}}\\n\\\\end{{table}}\"\n",
    "\n",
    "# Printing the table to access the code for some latex editor\n",
    "print(table_latex)"
   ],
   "metadata": {
    "collapsed": false,
    "pycharm": {
     "name": "#%%\n"
    }
   }
  },
  {
   "cell_type": "code",
   "source": [
    "# Initialize an empty list to store for the Yelp data intense reviews\n",
    "ls_yelp_nested_3_intense_reviews = []\n",
    "\n",
    "# Iterate through key-value pairs in the 'df_imdb_split' dictionary\n",
    "for key, split in df_yelp_split.items():\n",
    "    time, rating = key\n",
    "\n",
    "    # Determine if the rating is minimum (1.0) to identify if we have a sample of reviews with negative sentiment, hence intense terms are sentiment words with a score smaller -3\n",
    "    min = rating == 1.0\n",
    "\n",
    "     # Calculate and collect list of 3 intense reviews for the current data split\n",
    "    ls_3_intense_reviews = get_n_intense_reviews(split, 3, 'review', min, lexicon_sentiment)\n",
    "\n",
    "    # Append the nested list to the main list\n",
    "    ls_yelp_nested_3_intense_reviews.append(ls_3_intense_reviews)\n",
    "\n",
    "# Save the collected data to a pickle file\n",
    "#with open(\"yelp_3_intense_reviews.pkl\", \"wb\") as file:\n",
    "#    pickle.dump(ls_yelp_nested_3_intense_reviews, file)"
   ],
   "metadata": {
    "collapsed": false,
    "pycharm": {
     "name": "#%%\n"
    },
    "jupyter": {
     "outputs_hidden": false
    }
   },
   "execution_count": 78,
   "outputs": []
  },
  {
   "cell_type": "code",
   "execution_count": 37,
   "outputs": [
    {
     "name": "stdout",
     "output_type": "stream",
     "text": [
      "\n",
      "\\begin{table}[ht]\n",
      "\\centering\n",
      "\\begin{tabular}{c|c|p{6cm}}\n",
      "\\hline\n",
      "Year & Sent & Review \\\\\n",
      "\\hline\n",
      "2005 & neg & eww.. Starbucks.  If you have any taste, you will not be caught dead in the green monster while in New Orleans.  This one is super tiny, and four blocks to Cafe Du Monde.  Go for it.  There's also coffee on the third floor of Virgin, two blocks away. \\\\2005 & pos & The best wet n sloppy BBQ around.  Try the sweet potato pie too. \\\\2022 & neg & Owner is a drunken racist. DJ was thrown out because too many \"n*****s\" were there. \\\\2022 & pos & this had great food would recommend \\\\\\hline\\end{tabular}\n",
      "\\caption{A selection of Yelp reviews with year, sentiment, and review content.}\n",
      "\\end{table}\n"
     ]
    }
   ],
   "source": [
    "# Select data of interest in creating a latex-style table\n",
    "data = [\n",
    "    (df_yelp_results.iloc[0, 0], df_yelp_results.iloc[0, 1], ls_yelp_nested_3_intense_reviews[0][0]),\n",
    "    (df_yelp_results.iloc[1, 0], df_yelp_results.iloc[1, 1], ls_yelp_nested_3_intense_reviews[1][0]),\n",
    "    (df_yelp_results.iloc[-2, 0], df_yelp_results.iloc[-2, 1], ls_yelp_nested_3_intense_reviews[-2][0]),\n",
    "    (df_yelp_results.iloc[-1, 0], df_yelp_results.iloc[-1, 1], ls_yelp_nested_3_intense_reviews[-1][0]),\n",
    "]\n",
    "\n",
    "# Convert data into a list of lists for creating a table\n",
    "table = []\n",
    "for year, sent, review in data:\n",
    "    sent_label = 'neg' if sent == 1.0 else 'pos'\n",
    "    table.append([year, sent_label, review])\n",
    "\n",
    "# Add a header row for the table\n",
    "headers = ['Year', 'Sent', 'Review']\n",
    "table.insert(0, headers)\n",
    "\n",
    "# Define a subtitle for the table\n",
    "subtitle = \"A selection of Yelp reviews with year, sentiment, and review content.\"\n",
    "\n",
    "# Construct the complete LaTeX table code with title, subtitle, and column headers\n",
    "table_latex = f\"\"\"\n",
    "\\\\begin{{table}}[ht]\n",
    "\\\\centering\n",
    "\\\\begin{{tabular}}{{c|c|p{{6cm}}}}\n",
    "\\\\hline\n",
    "{headers[0]} & {headers[1]} & {headers[2]} \\\\\\\\\n",
    "\\\\hline\n",
    "\"\"\"\n",
    "\n",
    "# Add data rows to the LaTeX table code\n",
    "for row in table[1:]:\n",
    "    table_latex += f\"{row[0]} & {row[1]} & {row[2]} \\\\\\\\\"\n",
    "table_latex += f\"\\\\hline\\\\end{{tabular}}\\n\\\\caption{{{subtitle}}}\\n\\\\end{{table}}\"\n",
    "\n",
    "# Printing the table to access the code for some latex editor\n",
    "print(table_latex)"
   ],
   "metadata": {
    "collapsed": false,
    "pycharm": {
     "name": "#%%\n"
    }
   }
  },
  {
   "cell_type": "markdown",
   "source": [
    "###### Statistical Significance Analysis"
   ],
   "metadata": {
    "pycharm": {
     "name": "#%% md\n"
    }
   }
  },
  {
   "cell_type": "code",
   "source": [
    "# Define a list of time series metrics for statistical analysis\n",
    "ls_time_series = ['average word level sentiment', 'average enhanced sentiment', 'average abs sentiment', 'lexical diversity', 'average informativeness', 'dichotomy']"
   ],
   "metadata": {
    "collapsed": false,
    "pycharm": {
     "name": "#%%\n"
    },
    "jupyter": {
     "outputs_hidden": false
    }
   },
   "execution_count": 3,
   "outputs": []
  },
  {
   "cell_type": "code",
   "source": [
    "# Calculate controlled Mann-Kendall p-values for IMDb data\n",
    "ls_imdb_pvals = controlled_mannkendall(df_imdb_results, ls_time_series, 'rating')\n",
    "\n",
    "# Calculate controlled Mann-Kendall p-values for the last ten years of IMDb data\n",
    "cutoff = df_imdb_results.index[df_imdb_results['time'] == 2010].tolist()\n",
    "ls_imdb_pvals_last_decade = controlled_mannkendall(df_imdb_results.iloc[cutoff[0]:, ], ls_time_series, 'rating')\n",
    "\n",
    "# Save the calculated p-values to pickle files\n",
    "# with open(\"imdb_pvalues.pkl\", \"wb\") as file:\n",
    "#     pickle.dump(ls_imdb_pvals, file)\n",
    "\n",
    "# with open(\"imdb_pvalues_decade.pkl\", \"wb\") as file:\n",
    "#     pickle.dump(ls_imdb_pvals_last_decade, file)"
   ],
   "metadata": {
    "collapsed": false,
    "pycharm": {
     "name": "#%%\n",
     "is_executing": true
    },
    "jupyter": {
     "outputs_hidden": false
    }
   },
   "execution_count": null,
   "outputs": []
  },
  {
   "cell_type": "code",
   "source": [
    "# Print results of rejecting the H0 for all time series of the IMDb data set\n",
    "print(f'For each of the metrics for the IMDb data, can the hypothesis of no trend be rejected?')\n",
    "for i in range(len(ls_imdb_pvals[0])):\n",
    "    print(f'H{i+1}: {ls_imdb_pvals[0][i]} with p-value {ls_imdb_pvals[1][i]}')\n",
    "print('-----------------------------------------------------------------')\n",
    "\n",
    "# Print results of rejecting the H0 for the time series reduced to the last 10 years of the IMDb data set\n",
    "print(f'For each of the metrics for the IMDb data of the last ten years, can the hypothesis of no trend be rejected?')\n",
    "for i in range(len(ls_imdb_pvals_last_decade[0])):\n",
    "    print(f'H{i+1}: {ls_imdb_pvals_last_decade[0][i]} with p-value {ls_imdb_pvals_last_decade[1][i]}')"
   ],
   "metadata": {
    "collapsed": false,
    "pycharm": {
     "name": "#%%\n"
    },
    "jupyter": {
     "outputs_hidden": false
    }
   },
   "execution_count": 38,
   "outputs": [
    {
     "name": "stdout",
     "output_type": "stream",
     "text": [
      "For each of the metrics for the IMDb data, can the hypothesis of no trend be rejected?\n",
      "H1: True with p-value 0.00100555191095446\n",
      "H2: False with p-value 1.0\n",
      "H3: True with p-value 0.0023378281545588923\n",
      "H4: False with p-value 1.0\n",
      "H5: False with p-value 1.0\n",
      "H6: False with p-value 1.0\n",
      "H7: False with p-value 1.0\n",
      "H8: False with p-value 1.0\n",
      "H9: False with p-value 1.0\n",
      "H10: False with p-value 1.0\n",
      "H11: False with p-value 1.0\n",
      "H12: False with p-value 1.0\n",
      "-----------------------------------------------------------------\n",
      "For each of the metrics for the IMDb data of the last ten years, can the hypothesis of no trend be rejected?\n",
      "H1: True with p-value 0.030250432729736446\n",
      "H2: True with p-value 0.0031853559399941936\n",
      "H3: True with p-value 0.030250432729736446\n",
      "H4: True with p-value 0.00457218651631296\n",
      "H5: False with p-value 0.2937380946147219\n",
      "H6: True with p-value 0.005727460460401894\n",
      "H7: True with p-value 0.014399437456344373\n",
      "H8: True with p-value 0.005727460460401894\n",
      "H9: True with p-value 0.0031853559399941936\n",
      "H10: True with p-value 0.0031853559399941936\n",
      "H11: False with p-value 0.6607104903228149\n",
      "H12: True with p-value 0.0031853559399941936\n"
     ]
    }
   ]
  },
  {
   "cell_type": "code",
   "source": [
    "# Calculate controlled Mann-Kendall p-values for Yelp data\n",
    "ls_yelp_pvals = controlled_mannkendall(df_yelp_results, ls_time_series, 'stars')\n",
    "\n",
    "# Calculate controlled Mann-Kendall p-values for the last ten years of Yelp data\n",
    "cutoff = df_yelp_results.index[df_yelp_results['time'] == 2012].tolist()\n",
    "ls_yelp_pvals_last_decade = controlled_mannkendall(df_yelp_results.iloc[cutoff[0]:, ], ls_time_series, 'stars')\n",
    "\n",
    "# Save the calculated p-values to pickle files\n",
    "#with open(\"yelp_pvalues.pkl\", \"wb\") as file:\n",
    "#    pickle.dump(ls_yelp_pvals, file)\n",
    "\n",
    "#with open(\"yelp_pvalues_decade.pkl\", \"wb\") as file:\n",
    "#    pickle.dump(ls_yelp_pvals_last_decade, file)"
   ],
   "metadata": {
    "collapsed": false,
    "pycharm": {
     "name": "#%%\n"
    },
    "jupyter": {
     "outputs_hidden": false
    }
   },
   "execution_count": 10,
   "outputs": []
  },
  {
   "cell_type": "code",
   "source": [
    "# Print results of rejecting the H0 for all time series of the Yelp data set\n",
    "print(f'For each of the metrics for the yelp data can the hypothesis of no trend be rejected?')\n",
    "for i in range(len(ls_yelp_pvals[0])):\n",
    "    print(f'H{i+1}: {ls_yelp_pvals[0][i]} with p-value {ls_yelp_pvals[1][i]}')\n",
    "print('-----------------------------------------------------------------')\n",
    "\n",
    "# Print results of rejecting the H0 for the time series reduced to the last 10 years of the Yelp data set\n",
    "print(f'For each of the metrics for the yelp data of the last ten years can the hypothesis of no trend be rejected?')\n",
    "for i in range(len(ls_yelp_pvals_last_decade[0])):\n",
    "    print(f'H{i+1}: {ls_yelp_pvals_last_decade[0][i]} with p-value {ls_yelp_pvals_last_decade[1][i]}')"
   ],
   "metadata": {
    "collapsed": false,
    "pycharm": {
     "name": "#%%\n"
    },
    "jupyter": {
     "outputs_hidden": false
    }
   },
   "execution_count": 39,
   "outputs": [
    {
     "name": "stdout",
     "output_type": "stream",
     "text": [
      "For each of the metrics for the yelp data can the hypothesis of no trend be rejected?\n",
      "H1: True with p-value 0.000957104871917211\n",
      "H2: True with p-value 4.79447172641563e-06\n",
      "H3: True with p-value 0.00203818809156858\n",
      "H4: True with p-value 4.79447172641563e-06\n",
      "H5: True with p-value 0.0004347661937603214\n",
      "H6: True with p-value 2.459826613207219e-05\n",
      "H7: False with p-value 1.0\n",
      "H8: True with p-value 4.79447172641563e-06\n",
      "H9: True with p-value 0.042051931990344356\n",
      "H10: True with p-value 0.0002668159886201049\n",
      "H11: True with p-value 0.005451713289479939\n",
      "H12: True with p-value 4.085124932375427e-05\n",
      "-----------------------------------------------------------------\n",
      "For each of the metrics for the yelp data of the last ten years can the hypothesis of no trend be rejected?\n",
      "H1: True with p-value 0.000244248896869035\n",
      "H2: True with p-value 0.0007711718755436828\n",
      "H3: True with p-value 0.000244248896869035\n",
      "H4: True with p-value 0.000461844604642352\n",
      "H5: True with p-value 0.006873194522491625\n",
      "H6: True with p-value 0.010472318150068632\n",
      "H7: False with p-value 1.0\n",
      "H8: True with p-value 0.000461844604642352\n",
      "H9: True with p-value 0.000244248896869035\n",
      "H10: True with p-value 0.0003844077048051235\n",
      "H11: True with p-value 0.000244248896869035\n",
      "H12: True with p-value 0.000461844604642352\n"
     ]
    }
   ]
  },
  {
   "cell_type": "code",
   "source": [],
   "metadata": {
    "collapsed": false,
    "pycharm": {
     "name": "#%%\n"
    },
    "jupyter": {
     "outputs_hidden": false
    }
   },
   "execution_count": null,
   "outputs": []
  }
 ]
}